{
 "cells": [
  {
   "cell_type": "code",
   "execution_count": 24,
   "metadata": {},
   "outputs": [
    {
     "name": "stdout",
     "output_type": "stream",
     "text": [
      "The autoreload extension is already loaded. To reload it, use:\n",
      "  %reload_ext autoreload\n"
     ]
    },
    {
     "name": "stderr",
     "output_type": "stream",
     "text": [
      "[autoreload of translate failed: Traceback (most recent call last):\n",
      "  File \"/Users/juglardiaz-zamora/Projects/multilingual-augmented-llm/.venv/lib/python3.10/site-packages/IPython/extensions/autoreload.py\", line 276, in check\n",
      "    superreload(m, reload, self.old_objects)\n",
      "  File \"/Users/juglardiaz-zamora/Projects/multilingual-augmented-llm/.venv/lib/python3.10/site-packages/IPython/extensions/autoreload.py\", line 500, in superreload\n",
      "    update_generic(old_obj, new_obj)\n",
      "  File \"/Users/juglardiaz-zamora/Projects/multilingual-augmented-llm/.venv/lib/python3.10/site-packages/IPython/extensions/autoreload.py\", line 397, in update_generic\n",
      "    update(a, b)\n",
      "  File \"/Users/juglardiaz-zamora/Projects/multilingual-augmented-llm/.venv/lib/python3.10/site-packages/IPython/extensions/autoreload.py\", line 309, in update_function\n",
      "    setattr(old, name, getattr(new, name))\n",
      "ValueError: translate_text() requires a code object with 0 free vars, not 2\n",
      "]\n"
     ]
    }
   ],
   "source": [
    "import pickle\n",
    "import numpy as np\n",
    "import datasets\n",
    "from datasets import load_dataset, Dataset\n",
    "import pyarrow as pa\n",
    "import pandas as pd\n",
    "\n",
    "\n",
    "from dotenv import load_dotenv\n",
    "load_dotenv()\n",
    "\n",
    "import nltk\n",
    "%load_ext autoreload\n",
    "%autoreload 2"
   ]
  },
  {
   "cell_type": "code",
   "execution_count": 25,
   "metadata": {},
   "outputs": [],
   "source": [
    "import sys\n",
    "sys.path.append(\"../..\")\n",
    "from translate import translate_text"
   ]
  },
  {
   "cell_type": "code",
   "execution_count": 3,
   "metadata": {},
   "outputs": [],
   "source": [
    "TASKS = [\n",
    "        'abstract_algebra',\n",
    "        'anatomy',\n",
    "        'astronomy',\n",
    "        'business_ethics',\n",
    "        'clinical_knowledge',\n",
    "        'college_biology',\n",
    "        'college_chemistry',\n",
    "        'college_computer_science',\n",
    "        'college_mathematics',\n",
    "        'college_medicine',\n",
    "        'college_physics',\n",
    "        'computer_security',\n",
    "        'conceptual_physics',\n",
    "        'econometrics',\n",
    "        'electrical_engineering',\n",
    "        'elementary_mathematics',\n",
    "        'formal_logic',\n",
    "        'global_facts',\n",
    "        'high_school_biology',\n",
    "        'high_school_chemistry',\n",
    "        'high_school_computer_science',\n",
    "        'high_school_european_history',\n",
    "        'high_school_geography',\n",
    "        'high_school_government_and_politics',\n",
    "        'high_school_macroeconomics',\n",
    "        'high_school_mathematics',\n",
    "        'high_school_microeconomics',\n",
    "        'high_school_physics',\n",
    "        'high_school_psychology',\n",
    "        'high_school_statistics',\n",
    "        'high_school_us_history',\n",
    "        'high_school_world_history',\n",
    "        'human_aging',\n",
    "        'human_sexuality',\n",
    "        'international_law',\n",
    "        'jurisprudence',\n",
    "        'logical_fallacies',\n",
    "        'machine_learning',\n",
    "        'management',\n",
    "        'marketing',\n",
    "        'medical_genetics',\n",
    "        'miscellaneous',\n",
    "        'moral_disputes',\n",
    "        'moral_scenarios',\n",
    "        'nutrition',\n",
    "        'philosophy',\n",
    "        'prehistory',\n",
    "        'professional_accounting',\n",
    "        'professional_law',\n",
    "        'professional_medicine',\n",
    "        'professional_psychology',\n",
    "        'public_relations',\n",
    "        'security_studies',\n",
    "        'sociology',\n",
    "        'us_foreign_policy',\n",
    "        'virology',\n",
    "        'world_religions']"
   ]
  },
  {
   "cell_type": "code",
   "execution_count": 4,
   "metadata": {},
   "outputs": [
    {
     "data": {
      "text/plain": [
       "57"
      ]
     },
     "execution_count": 4,
     "metadata": {},
     "output_type": "execute_result"
    }
   ],
   "source": [
    "len(TASKS)"
   ]
  },
  {
   "cell_type": "code",
   "execution_count": 7,
   "metadata": {},
   "outputs": [],
   "source": [
    "first_load = False\n",
    "data = dict()\n",
    "if first_load:\n",
    "    for task in TASKS:\n",
    "        data[task] = load_dataset(\"lukaemon/mmlu\", task)\n",
    "\n",
    "else:\n",
    "    pass\n",
    "    with open('data/multi_mmlu.pickle', 'rb') as handle:\n",
    "        data = pickle.load(handle)"
   ]
  },
  {
   "cell_type": "code",
   "execution_count": 8,
   "metadata": {},
   "outputs": [
    {
     "data": {
      "text/plain": [
       "dict_keys(['test', 'validation', 'train', 'test_es_gt'])"
      ]
     },
     "execution_count": 8,
     "metadata": {},
     "output_type": "execute_result"
    }
   ],
   "source": [
    "data['abstract_algebra'].keys()"
   ]
  },
  {
   "cell_type": "code",
   "execution_count": 9,
   "metadata": {},
   "outputs": [
    {
     "data": {
      "text/plain": [
       "{'input': 'Let p = (1, 2, 5, 4)(2, 3) in S_5 . Find the index of <p> in S_5.',\n",
       " 'A': '8',\n",
       " 'B': '2',\n",
       " 'C': '24',\n",
       " 'D': '120',\n",
       " 'target': 'C'}"
      ]
     },
     "execution_count": 9,
     "metadata": {},
     "output_type": "execute_result"
    }
   ],
   "source": [
    "data['abstract_algebra']['test'][0]\n"
   ]
  },
  {
   "cell_type": "code",
   "execution_count": 10,
   "metadata": {},
   "outputs": [
    {
     "data": {
      "text/plain": [
       "{'entrada': 'Sea p = (1, 2, 5, 4)(2, 3) en S_5. Encuentre el índice de <p> en S_5.',\n",
       " 'A': '8',\n",
       " 'B': '2',\n",
       " 'C': '24',\n",
       " 'D': '120',\n",
       " 'objetivo': 'C'}"
      ]
     },
     "execution_count": 10,
     "metadata": {},
     "output_type": "execute_result"
    }
   ],
   "source": [
    "data['abstract_algebra']['test_es_gt'][0]\n"
   ]
  },
  {
   "cell_type": "code",
   "execution_count": 9,
   "metadata": {},
   "outputs": [
    {
     "data": {
      "text/plain": [
       "99"
      ]
     },
     "execution_count": 9,
     "metadata": {},
     "output_type": "execute_result"
    }
   ],
   "source": [
    "len(data['abstract_algebra']['test'])"
   ]
  },
  {
   "cell_type": "code",
   "execution_count": 11,
   "metadata": {},
   "outputs": [
    {
     "data": {
      "text/plain": [
       "13985"
      ]
     },
     "execution_count": 11,
     "metadata": {},
     "output_type": "execute_result"
    }
   ],
   "source": [
    "sum([len(data[task]['test']) for task in TASKS])"
   ]
  },
  {
   "cell_type": "code",
   "execution_count": 8,
   "metadata": {},
   "outputs": [
    {
     "data": {
      "text/plain": [
       "{'input': 'Find all zeros in the indicated finite field of the given polynomial with coefficients in that field. x^5 + 3x^3 + x^2 + 2x in Z_5',\n",
       " 'A': '0',\n",
       " 'B': '1',\n",
       " 'C': '0,1',\n",
       " 'D': '0,4',\n",
       " 'target': 'D'}"
      ]
     },
     "execution_count": 8,
     "metadata": {},
     "output_type": "execute_result"
    }
   ],
   "source": [
    "data['abstract_algebra']['test'][1]\n"
   ]
  },
  {
   "cell_type": "code",
   "execution_count": 7,
   "metadata": {},
   "outputs": [
    {
     "data": {
      "text/plain": [
       "{'input': 'Statement 1 | If aH is an element of a factor group, then |aH| divides |a|. Statement 2 | If H and K are subgroups of G then HK is a subgroup of G.',\n",
       " 'A': 'True, True',\n",
       " 'B': 'False, False',\n",
       " 'C': 'True, False',\n",
       " 'D': 'False, True',\n",
       " 'target': 'B'}"
      ]
     },
     "execution_count": 7,
     "metadata": {},
     "output_type": "execute_result"
    }
   ],
   "source": [
    "data['abstract_algebra']['train'][0]\n"
   ]
  },
  {
   "cell_type": "code",
   "execution_count": 14,
   "metadata": {},
   "outputs": [
    {
     "data": {
      "text/plain": [
       "dict_keys(['input', 'A', 'B', 'C', 'D', 'target'])"
      ]
     },
     "execution_count": 14,
     "metadata": {},
     "output_type": "execute_result"
    }
   ],
   "source": [
    "data['abstract_algebra']['train'][0].keys()"
   ]
  },
  {
   "cell_type": "code",
   "execution_count": 12,
   "metadata": {},
   "outputs": [
    {
     "data": {
      "text/plain": [
       "'Statement 1 | If aH is an element of a factor group, then |aH| divides |a|. Statement 2 | If H and K are subgroups of G then HK is a subgroup of G.'"
      ]
     },
     "execution_count": 12,
     "metadata": {},
     "output_type": "execute_result"
    }
   ],
   "source": [
    "data['abstract_algebra']['train'][0]['input']"
   ]
  },
  {
   "cell_type": "code",
   "execution_count": 13,
   "metadata": {},
   "outputs": [
    {
     "data": {
      "text/plain": [
       "'B'"
      ]
     },
     "execution_count": 13,
     "metadata": {},
     "output_type": "execute_result"
    }
   ],
   "source": [
    "data['abstract_algebra']['train'][0]['target']\n"
   ]
  },
  {
   "cell_type": "code",
   "execution_count": 12,
   "metadata": {},
   "outputs": [],
   "source": [
    "mem = {\n",
    "    'es': {'input': 'entrada', 'True': 'Verdadero',  'False': 'Falso', 'target': 'objetivo'}, \n",
    "    'pt': {'input': 'entrada', 'True': 'Verdadeiro', 'False': 'Falso', 'target': 'alvo'},\n",
    "    'fr': {'input': 'entrée',  'True': 'Vrai',       'False': 'Faux',  'target': 'cible'}, \n",
    "    'it': {'input': 'input',   'True': 'Vero',       'False': 'Falso', 'target': 'obiettivo'}, \n",
    "}\n"
   ]
  },
  {
   "cell_type": "code",
   "execution_count": 22,
   "metadata": {},
   "outputs": [],
   "source": [
    "#what is the input to the algorithm\n",
    "#what is the target solution\n",
    "#is it true or false\n",
    "\n",
    "def translate_text_aux(target='', text=''):\n",
    "    if text.isnumeric():\n",
    "        return text\n",
    "    response = translate_text(target=target, text=text)\n",
    "    return response[\"translatedText\"]\n",
    "\n",
    "def translate_example(example, lang_cod):\n",
    "    new_example = {}\n",
    "    for key in example.keys():\n",
    "        if key in mem[lang_cod]:\n",
    "            new_key = mem[lang_cod][key]\n",
    "        else:\n",
    "            new_key = translate_text_aux(target=lang_cod, text=key)\n",
    "\n",
    "        mem[lang_cod][key] = new_key\n",
    "\n",
    "        value = example[key]\n",
    "\n",
    "        if value in mem[lang_cod]:\n",
    "            new_value = mem[lang_cod][value]\n",
    "        else:\n",
    "            new_value = translate_text_aux(target=lang_cod, text=value)\n",
    "\n",
    "        mem[lang_cod][value] = new_value\n",
    "        \n",
    "        new_example[new_key] = new_value\n",
    "    return new_example\n",
    "\n",
    "def run_translate_task(lang_cod, task, num_examples=0):\n",
    "    if not num_examples:\n",
    "        num_examples = len(data[task]['test'])\n",
    "    ### call translate function\n",
    "    data[task][f\"test_{lang_cod}_gt\"] = [translate_example(data[task]['test'][i], lang_cod) for i in range(num_examples)]\n",
    "    \n",
    "    ### convert to Huggingface dataset\n",
    "    data[task][f\"test_{lang_cod}_gt\"] = Dataset(pa.Table.from_pandas(pd.DataFrame(data[task][f\"test_{lang_cod}_gt\"])))\n",
    "\n",
    "    ### save to disk\n",
    "    with open('data/multi_mmlu.pickle', 'wb') as handle:\n",
    "        pickle.dump(data, handle, protocol=pickle.HIGHEST_PROTOCOL)"
   ]
  },
  {
   "cell_type": "code",
   "execution_count": 44,
   "metadata": {},
   "outputs": [
    {
     "data": {
      "text/plain": [
       "58704"
      ]
     },
     "execution_count": 44,
     "metadata": {},
     "output_type": "execute_result"
    }
   ],
   "source": [
    "len(mem['es'])"
   ]
  },
  {
   "attachments": {},
   "cell_type": "markdown",
   "metadata": {},
   "source": [
    "## Spanish"
   ]
  },
  {
   "cell_type": "code",
   "execution_count": 41,
   "metadata": {},
   "outputs": [
    {
     "name": "stdout",
     "output_type": "stream",
     "text": [
      "abstract_algebra\n",
      "anatomy\n",
      "astronomy\n",
      "business_ethics\n",
      "clinical_knowledge\n",
      "college_biology\n",
      "college_chemistry\n",
      "college_computer_science\n",
      "college_mathematics\n",
      "college_medicine\n",
      "college_physics\n",
      "computer_security\n",
      "conceptual_physics\n",
      "econometrics\n",
      "electrical_engineering\n",
      "elementary_mathematics\n",
      "formal_logic\n",
      "global_facts\n",
      "high_school_biology\n",
      "high_school_chemistry\n",
      "high_school_computer_science\n",
      "high_school_european_history\n",
      "high_school_geography\n",
      "high_school_government_and_politics\n",
      "high_school_macroeconomics\n",
      "high_school_mathematics\n",
      "high_school_microeconomics\n",
      "high_school_physics\n",
      "high_school_psychology\n",
      "high_school_statistics\n",
      "high_school_us_history\n",
      "high_school_world_history\n",
      "human_aging\n",
      "human_sexuality\n",
      "international_law\n",
      "jurisprudence\n",
      "logical_fallacies\n",
      "machine_learning\n",
      "management\n",
      "marketing\n",
      "medical_genetics\n",
      "miscellaneous\n",
      "moral_disputes\n",
      "moral_scenarios\n",
      "nutrition\n",
      "philosophy\n",
      "prehistory\n",
      "professional_accounting\n",
      "professional_law\n",
      "professional_medicine\n",
      "professional_psychology\n",
      "public_relations\n",
      "security_studies\n",
      "sociology\n",
      "us_foreign_policy\n",
      "virology\n",
      "world_religions\n"
     ]
    }
   ],
   "source": [
    "for task in TASKS:\n",
    "    print(task)\n",
    "    run_translate_task('es', task)\n",
    "    "
   ]
  },
  {
   "cell_type": "code",
   "execution_count": 23,
   "metadata": {},
   "outputs": [
    {
     "name": "stdout",
     "output_type": "stream",
     "text": [
      "abstract_algebra\n",
      "anatomy\n",
      "astronomy\n",
      "business_ethics\n",
      "clinical_knowledge\n",
      "college_biology\n",
      "college_chemistry\n",
      "college_computer_science\n",
      "college_mathematics\n",
      "college_medicine\n",
      "college_physics\n",
      "computer_security\n",
      "conceptual_physics\n",
      "econometrics\n",
      "electrical_engineering\n",
      "elementary_mathematics\n",
      "formal_logic\n",
      "global_facts\n",
      "high_school_biology\n",
      "high_school_chemistry\n"
     ]
    },
    {
     "ename": "ReadTimeout",
     "evalue": "HTTPSConnectionPool(host='translation.googleapis.com', port=443): Read timed out. (read timeout=60)",
     "output_type": "error",
     "traceback": [
      "\u001b[0;31m---------------------------------------------------------------------------\u001b[0m",
      "\u001b[0;31mTimeoutError\u001b[0m                              Traceback (most recent call last)",
      "File \u001b[0;32m~/Projects/multilingual-augmented-llm/.venv/lib/python3.10/site-packages/urllib3/connectionpool.py:536\u001b[0m, in \u001b[0;36mHTTPConnectionPool._make_request\u001b[0;34m(self, conn, method, url, body, headers, retries, timeout, chunked, response_conn, preload_content, decode_content, enforce_content_length)\u001b[0m\n\u001b[1;32m    535\u001b[0m \u001b[39mtry\u001b[39;00m:\n\u001b[0;32m--> 536\u001b[0m     response \u001b[39m=\u001b[39m conn\u001b[39m.\u001b[39;49mgetresponse()\n\u001b[1;32m    537\u001b[0m \u001b[39mexcept\u001b[39;00m (BaseSSLError, \u001b[39mOSError\u001b[39;00m) \u001b[39mas\u001b[39;00m e:\n",
      "File \u001b[0;32m~/Projects/multilingual-augmented-llm/.venv/lib/python3.10/site-packages/urllib3/connection.py:454\u001b[0m, in \u001b[0;36mHTTPConnection.getresponse\u001b[0;34m(self)\u001b[0m\n\u001b[1;32m    453\u001b[0m \u001b[39m# Get the response from http.client.HTTPConnection\u001b[39;00m\n\u001b[0;32m--> 454\u001b[0m httplib_response \u001b[39m=\u001b[39m \u001b[39msuper\u001b[39;49m()\u001b[39m.\u001b[39;49mgetresponse()\n\u001b[1;32m    456\u001b[0m \u001b[39mtry\u001b[39;00m:\n",
      "File \u001b[0;32m/Library/Frameworks/Python.framework/Versions/3.10/lib/python3.10/http/client.py:1375\u001b[0m, in \u001b[0;36mHTTPConnection.getresponse\u001b[0;34m(self)\u001b[0m\n\u001b[1;32m   1374\u001b[0m \u001b[39mtry\u001b[39;00m:\n\u001b[0;32m-> 1375\u001b[0m     response\u001b[39m.\u001b[39;49mbegin()\n\u001b[1;32m   1376\u001b[0m \u001b[39mexcept\u001b[39;00m \u001b[39mConnectionError\u001b[39;00m:\n",
      "File \u001b[0;32m/Library/Frameworks/Python.framework/Versions/3.10/lib/python3.10/http/client.py:318\u001b[0m, in \u001b[0;36mHTTPResponse.begin\u001b[0;34m(self)\u001b[0m\n\u001b[1;32m    317\u001b[0m \u001b[39mwhile\u001b[39;00m \u001b[39mTrue\u001b[39;00m:\n\u001b[0;32m--> 318\u001b[0m     version, status, reason \u001b[39m=\u001b[39m \u001b[39mself\u001b[39;49m\u001b[39m.\u001b[39;49m_read_status()\n\u001b[1;32m    319\u001b[0m     \u001b[39mif\u001b[39;00m status \u001b[39m!=\u001b[39m CONTINUE:\n",
      "File \u001b[0;32m/Library/Frameworks/Python.framework/Versions/3.10/lib/python3.10/http/client.py:279\u001b[0m, in \u001b[0;36mHTTPResponse._read_status\u001b[0;34m(self)\u001b[0m\n\u001b[1;32m    278\u001b[0m \u001b[39mdef\u001b[39;00m \u001b[39m_read_status\u001b[39m(\u001b[39mself\u001b[39m):\n\u001b[0;32m--> 279\u001b[0m     line \u001b[39m=\u001b[39m \u001b[39mstr\u001b[39m(\u001b[39mself\u001b[39;49m\u001b[39m.\u001b[39;49mfp\u001b[39m.\u001b[39;49mreadline(_MAXLINE \u001b[39m+\u001b[39;49m \u001b[39m1\u001b[39;49m), \u001b[39m\"\u001b[39m\u001b[39miso-8859-1\u001b[39m\u001b[39m\"\u001b[39m)\n\u001b[1;32m    280\u001b[0m     \u001b[39mif\u001b[39;00m \u001b[39mlen\u001b[39m(line) \u001b[39m>\u001b[39m _MAXLINE:\n",
      "File \u001b[0;32m/Library/Frameworks/Python.framework/Versions/3.10/lib/python3.10/socket.py:705\u001b[0m, in \u001b[0;36mSocketIO.readinto\u001b[0;34m(self, b)\u001b[0m\n\u001b[1;32m    704\u001b[0m \u001b[39mtry\u001b[39;00m:\n\u001b[0;32m--> 705\u001b[0m     \u001b[39mreturn\u001b[39;00m \u001b[39mself\u001b[39;49m\u001b[39m.\u001b[39;49m_sock\u001b[39m.\u001b[39;49mrecv_into(b)\n\u001b[1;32m    706\u001b[0m \u001b[39mexcept\u001b[39;00m timeout:\n",
      "File \u001b[0;32m/Library/Frameworks/Python.framework/Versions/3.10/lib/python3.10/ssl.py:1274\u001b[0m, in \u001b[0;36mSSLSocket.recv_into\u001b[0;34m(self, buffer, nbytes, flags)\u001b[0m\n\u001b[1;32m   1271\u001b[0m         \u001b[39mraise\u001b[39;00m \u001b[39mValueError\u001b[39;00m(\n\u001b[1;32m   1272\u001b[0m           \u001b[39m\"\u001b[39m\u001b[39mnon-zero flags not allowed in calls to recv_into() on \u001b[39m\u001b[39m%s\u001b[39;00m\u001b[39m\"\u001b[39m \u001b[39m%\u001b[39m\n\u001b[1;32m   1273\u001b[0m           \u001b[39mself\u001b[39m\u001b[39m.\u001b[39m\u001b[39m__class__\u001b[39m)\n\u001b[0;32m-> 1274\u001b[0m     \u001b[39mreturn\u001b[39;00m \u001b[39mself\u001b[39;49m\u001b[39m.\u001b[39;49mread(nbytes, buffer)\n\u001b[1;32m   1275\u001b[0m \u001b[39melse\u001b[39;00m:\n",
      "File \u001b[0;32m/Library/Frameworks/Python.framework/Versions/3.10/lib/python3.10/ssl.py:1130\u001b[0m, in \u001b[0;36mSSLSocket.read\u001b[0;34m(self, len, buffer)\u001b[0m\n\u001b[1;32m   1129\u001b[0m \u001b[39mif\u001b[39;00m buffer \u001b[39mis\u001b[39;00m \u001b[39mnot\u001b[39;00m \u001b[39mNone\u001b[39;00m:\n\u001b[0;32m-> 1130\u001b[0m     \u001b[39mreturn\u001b[39;00m \u001b[39mself\u001b[39;49m\u001b[39m.\u001b[39;49m_sslobj\u001b[39m.\u001b[39;49mread(\u001b[39mlen\u001b[39;49m, buffer)\n\u001b[1;32m   1131\u001b[0m \u001b[39melse\u001b[39;00m:\n",
      "\u001b[0;31mTimeoutError\u001b[0m: The read operation timed out",
      "\nThe above exception was the direct cause of the following exception:\n",
      "\u001b[0;31mReadTimeoutError\u001b[0m                          Traceback (most recent call last)",
      "File \u001b[0;32m~/Projects/multilingual-augmented-llm/.venv/lib/python3.10/site-packages/requests/adapters.py:486\u001b[0m, in \u001b[0;36mHTTPAdapter.send\u001b[0;34m(self, request, stream, timeout, verify, cert, proxies)\u001b[0m\n\u001b[1;32m    485\u001b[0m \u001b[39mtry\u001b[39;00m:\n\u001b[0;32m--> 486\u001b[0m     resp \u001b[39m=\u001b[39m conn\u001b[39m.\u001b[39;49murlopen(\n\u001b[1;32m    487\u001b[0m         method\u001b[39m=\u001b[39;49mrequest\u001b[39m.\u001b[39;49mmethod,\n\u001b[1;32m    488\u001b[0m         url\u001b[39m=\u001b[39;49murl,\n\u001b[1;32m    489\u001b[0m         body\u001b[39m=\u001b[39;49mrequest\u001b[39m.\u001b[39;49mbody,\n\u001b[1;32m    490\u001b[0m         headers\u001b[39m=\u001b[39;49mrequest\u001b[39m.\u001b[39;49mheaders,\n\u001b[1;32m    491\u001b[0m         redirect\u001b[39m=\u001b[39;49m\u001b[39mFalse\u001b[39;49;00m,\n\u001b[1;32m    492\u001b[0m         assert_same_host\u001b[39m=\u001b[39;49m\u001b[39mFalse\u001b[39;49;00m,\n\u001b[1;32m    493\u001b[0m         preload_content\u001b[39m=\u001b[39;49m\u001b[39mFalse\u001b[39;49;00m,\n\u001b[1;32m    494\u001b[0m         decode_content\u001b[39m=\u001b[39;49m\u001b[39mFalse\u001b[39;49;00m,\n\u001b[1;32m    495\u001b[0m         retries\u001b[39m=\u001b[39;49m\u001b[39mself\u001b[39;49m\u001b[39m.\u001b[39;49mmax_retries,\n\u001b[1;32m    496\u001b[0m         timeout\u001b[39m=\u001b[39;49mtimeout,\n\u001b[1;32m    497\u001b[0m         chunked\u001b[39m=\u001b[39;49mchunked,\n\u001b[1;32m    498\u001b[0m     )\n\u001b[1;32m    500\u001b[0m \u001b[39mexcept\u001b[39;00m (ProtocolError, \u001b[39mOSError\u001b[39;00m) \u001b[39mas\u001b[39;00m err:\n",
      "File \u001b[0;32m~/Projects/multilingual-augmented-llm/.venv/lib/python3.10/site-packages/urllib3/connectionpool.py:844\u001b[0m, in \u001b[0;36mHTTPConnectionPool.urlopen\u001b[0;34m(self, method, url, body, headers, retries, redirect, assert_same_host, timeout, pool_timeout, release_conn, chunked, body_pos, preload_content, decode_content, **response_kw)\u001b[0m\n\u001b[1;32m    842\u001b[0m     new_e \u001b[39m=\u001b[39m ProtocolError(\u001b[39m\"\u001b[39m\u001b[39mConnection aborted.\u001b[39m\u001b[39m\"\u001b[39m, new_e)\n\u001b[0;32m--> 844\u001b[0m retries \u001b[39m=\u001b[39m retries\u001b[39m.\u001b[39;49mincrement(\n\u001b[1;32m    845\u001b[0m     method, url, error\u001b[39m=\u001b[39;49mnew_e, _pool\u001b[39m=\u001b[39;49m\u001b[39mself\u001b[39;49m, _stacktrace\u001b[39m=\u001b[39;49msys\u001b[39m.\u001b[39;49mexc_info()[\u001b[39m2\u001b[39;49m]\n\u001b[1;32m    846\u001b[0m )\n\u001b[1;32m    847\u001b[0m retries\u001b[39m.\u001b[39msleep()\n",
      "File \u001b[0;32m~/Projects/multilingual-augmented-llm/.venv/lib/python3.10/site-packages/urllib3/util/retry.py:470\u001b[0m, in \u001b[0;36mRetry.increment\u001b[0;34m(self, method, url, response, error, _pool, _stacktrace)\u001b[0m\n\u001b[1;32m    469\u001b[0m \u001b[39mif\u001b[39;00m read \u001b[39mis\u001b[39;00m \u001b[39mFalse\u001b[39;00m \u001b[39mor\u001b[39;00m method \u001b[39mis\u001b[39;00m \u001b[39mNone\u001b[39;00m \u001b[39mor\u001b[39;00m \u001b[39mnot\u001b[39;00m \u001b[39mself\u001b[39m\u001b[39m.\u001b[39m_is_method_retryable(method):\n\u001b[0;32m--> 470\u001b[0m     \u001b[39mraise\u001b[39;00m reraise(\u001b[39mtype\u001b[39;49m(error), error, _stacktrace)\n\u001b[1;32m    471\u001b[0m \u001b[39melif\u001b[39;00m read \u001b[39mis\u001b[39;00m \u001b[39mnot\u001b[39;00m \u001b[39mNone\u001b[39;00m:\n",
      "File \u001b[0;32m~/Projects/multilingual-augmented-llm/.venv/lib/python3.10/site-packages/urllib3/util/util.py:39\u001b[0m, in \u001b[0;36mreraise\u001b[0;34m(tp, value, tb)\u001b[0m\n\u001b[1;32m     38\u001b[0m         \u001b[39mraise\u001b[39;00m value\u001b[39m.\u001b[39mwith_traceback(tb)\n\u001b[0;32m---> 39\u001b[0m     \u001b[39mraise\u001b[39;00m value\n\u001b[1;32m     40\u001b[0m \u001b[39mfinally\u001b[39;00m:\n",
      "File \u001b[0;32m~/Projects/multilingual-augmented-llm/.venv/lib/python3.10/site-packages/urllib3/connectionpool.py:790\u001b[0m, in \u001b[0;36mHTTPConnectionPool.urlopen\u001b[0;34m(self, method, url, body, headers, retries, redirect, assert_same_host, timeout, pool_timeout, release_conn, chunked, body_pos, preload_content, decode_content, **response_kw)\u001b[0m\n\u001b[1;32m    789\u001b[0m \u001b[39m# Make the request on the HTTPConnection object\u001b[39;00m\n\u001b[0;32m--> 790\u001b[0m response \u001b[39m=\u001b[39m \u001b[39mself\u001b[39;49m\u001b[39m.\u001b[39;49m_make_request(\n\u001b[1;32m    791\u001b[0m     conn,\n\u001b[1;32m    792\u001b[0m     method,\n\u001b[1;32m    793\u001b[0m     url,\n\u001b[1;32m    794\u001b[0m     timeout\u001b[39m=\u001b[39;49mtimeout_obj,\n\u001b[1;32m    795\u001b[0m     body\u001b[39m=\u001b[39;49mbody,\n\u001b[1;32m    796\u001b[0m     headers\u001b[39m=\u001b[39;49mheaders,\n\u001b[1;32m    797\u001b[0m     chunked\u001b[39m=\u001b[39;49mchunked,\n\u001b[1;32m    798\u001b[0m     retries\u001b[39m=\u001b[39;49mretries,\n\u001b[1;32m    799\u001b[0m     response_conn\u001b[39m=\u001b[39;49mresponse_conn,\n\u001b[1;32m    800\u001b[0m     preload_content\u001b[39m=\u001b[39;49mpreload_content,\n\u001b[1;32m    801\u001b[0m     decode_content\u001b[39m=\u001b[39;49mdecode_content,\n\u001b[1;32m    802\u001b[0m     \u001b[39m*\u001b[39;49m\u001b[39m*\u001b[39;49mresponse_kw,\n\u001b[1;32m    803\u001b[0m )\n\u001b[1;32m    805\u001b[0m \u001b[39m# Everything went great!\u001b[39;00m\n",
      "File \u001b[0;32m~/Projects/multilingual-augmented-llm/.venv/lib/python3.10/site-packages/urllib3/connectionpool.py:538\u001b[0m, in \u001b[0;36mHTTPConnectionPool._make_request\u001b[0;34m(self, conn, method, url, body, headers, retries, timeout, chunked, response_conn, preload_content, decode_content, enforce_content_length)\u001b[0m\n\u001b[1;32m    537\u001b[0m \u001b[39mexcept\u001b[39;00m (BaseSSLError, \u001b[39mOSError\u001b[39;00m) \u001b[39mas\u001b[39;00m e:\n\u001b[0;32m--> 538\u001b[0m     \u001b[39mself\u001b[39;49m\u001b[39m.\u001b[39;49m_raise_timeout(err\u001b[39m=\u001b[39;49me, url\u001b[39m=\u001b[39;49murl, timeout_value\u001b[39m=\u001b[39;49mread_timeout)\n\u001b[1;32m    539\u001b[0m     \u001b[39mraise\u001b[39;00m\n",
      "File \u001b[0;32m~/Projects/multilingual-augmented-llm/.venv/lib/python3.10/site-packages/urllib3/connectionpool.py:370\u001b[0m, in \u001b[0;36mHTTPConnectionPool._raise_timeout\u001b[0;34m(self, err, url, timeout_value)\u001b[0m\n\u001b[1;32m    369\u001b[0m \u001b[39mif\u001b[39;00m \u001b[39misinstance\u001b[39m(err, SocketTimeout):\n\u001b[0;32m--> 370\u001b[0m     \u001b[39mraise\u001b[39;00m ReadTimeoutError(\n\u001b[1;32m    371\u001b[0m         \u001b[39mself\u001b[39m, url, \u001b[39mf\u001b[39m\u001b[39m\"\u001b[39m\u001b[39mRead timed out. (read timeout=\u001b[39m\u001b[39m{\u001b[39;00mtimeout_value\u001b[39m}\u001b[39;00m\u001b[39m)\u001b[39m\u001b[39m\"\u001b[39m\n\u001b[1;32m    372\u001b[0m     ) \u001b[39mfrom\u001b[39;00m \u001b[39merr\u001b[39;00m\n\u001b[1;32m    374\u001b[0m \u001b[39m# See the above comment about EAGAIN in Python 3.\u001b[39;00m\n",
      "\u001b[0;31mReadTimeoutError\u001b[0m: HTTPSConnectionPool(host='translation.googleapis.com', port=443): Read timed out. (read timeout=60)",
      "\nDuring handling of the above exception, another exception occurred:\n",
      "\u001b[0;31mReadTimeout\u001b[0m                               Traceback (most recent call last)",
      "Cell \u001b[0;32mIn[23], line 3\u001b[0m\n\u001b[1;32m      1\u001b[0m \u001b[39mfor\u001b[39;00m task \u001b[39min\u001b[39;00m TASKS:\n\u001b[1;32m      2\u001b[0m     \u001b[39mprint\u001b[39m(task)\n\u001b[0;32m----> 3\u001b[0m     run_translate_task(\u001b[39m'\u001b[39;49m\u001b[39mpt\u001b[39;49m\u001b[39m'\u001b[39;49m, task)\n",
      "Cell \u001b[0;32mIn[22], line 37\u001b[0m, in \u001b[0;36mrun_translate_task\u001b[0;34m(lang_cod, task, num_examples)\u001b[0m\n\u001b[1;32m     35\u001b[0m     num_examples \u001b[39m=\u001b[39m \u001b[39mlen\u001b[39m(data[task][\u001b[39m'\u001b[39m\u001b[39mtest\u001b[39m\u001b[39m'\u001b[39m])\n\u001b[1;32m     36\u001b[0m \u001b[39m### call translate function\u001b[39;00m\n\u001b[0;32m---> 37\u001b[0m data[task][\u001b[39mf\u001b[39m\u001b[39m\"\u001b[39m\u001b[39mtest_\u001b[39m\u001b[39m{\u001b[39;00mlang_cod\u001b[39m}\u001b[39;00m\u001b[39m_gt\u001b[39m\u001b[39m\"\u001b[39m] \u001b[39m=\u001b[39m [translate_example(data[task][\u001b[39m'\u001b[39m\u001b[39mtest\u001b[39m\u001b[39m'\u001b[39m][i], lang_cod) \u001b[39mfor\u001b[39;00m i \u001b[39min\u001b[39;00m \u001b[39mrange\u001b[39m(num_examples)]\n\u001b[1;32m     39\u001b[0m \u001b[39m### convert to Huggingface dataset\u001b[39;00m\n\u001b[1;32m     40\u001b[0m data[task][\u001b[39mf\u001b[39m\u001b[39m\"\u001b[39m\u001b[39mtest_\u001b[39m\u001b[39m{\u001b[39;00mlang_cod\u001b[39m}\u001b[39;00m\u001b[39m_gt\u001b[39m\u001b[39m\"\u001b[39m] \u001b[39m=\u001b[39m Dataset(pa\u001b[39m.\u001b[39mTable\u001b[39m.\u001b[39mfrom_pandas(pd\u001b[39m.\u001b[39mDataFrame(data[task][\u001b[39mf\u001b[39m\u001b[39m\"\u001b[39m\u001b[39mtest_\u001b[39m\u001b[39m{\u001b[39;00mlang_cod\u001b[39m}\u001b[39;00m\u001b[39m_gt\u001b[39m\u001b[39m\"\u001b[39m])))\n",
      "Cell \u001b[0;32mIn[22], line 37\u001b[0m, in \u001b[0;36m<listcomp>\u001b[0;34m(.0)\u001b[0m\n\u001b[1;32m     35\u001b[0m     num_examples \u001b[39m=\u001b[39m \u001b[39mlen\u001b[39m(data[task][\u001b[39m'\u001b[39m\u001b[39mtest\u001b[39m\u001b[39m'\u001b[39m])\n\u001b[1;32m     36\u001b[0m \u001b[39m### call translate function\u001b[39;00m\n\u001b[0;32m---> 37\u001b[0m data[task][\u001b[39mf\u001b[39m\u001b[39m\"\u001b[39m\u001b[39mtest_\u001b[39m\u001b[39m{\u001b[39;00mlang_cod\u001b[39m}\u001b[39;00m\u001b[39m_gt\u001b[39m\u001b[39m\"\u001b[39m] \u001b[39m=\u001b[39m [translate_example(data[task][\u001b[39m'\u001b[39;49m\u001b[39mtest\u001b[39;49m\u001b[39m'\u001b[39;49m][i], lang_cod) \u001b[39mfor\u001b[39;00m i \u001b[39min\u001b[39;00m \u001b[39mrange\u001b[39m(num_examples)]\n\u001b[1;32m     39\u001b[0m \u001b[39m### convert to Huggingface dataset\u001b[39;00m\n\u001b[1;32m     40\u001b[0m data[task][\u001b[39mf\u001b[39m\u001b[39m\"\u001b[39m\u001b[39mtest_\u001b[39m\u001b[39m{\u001b[39;00mlang_cod\u001b[39m}\u001b[39;00m\u001b[39m_gt\u001b[39m\u001b[39m\"\u001b[39m] \u001b[39m=\u001b[39m Dataset(pa\u001b[39m.\u001b[39mTable\u001b[39m.\u001b[39mfrom_pandas(pd\u001b[39m.\u001b[39mDataFrame(data[task][\u001b[39mf\u001b[39m\u001b[39m\"\u001b[39m\u001b[39mtest_\u001b[39m\u001b[39m{\u001b[39;00mlang_cod\u001b[39m}\u001b[39;00m\u001b[39m_gt\u001b[39m\u001b[39m\"\u001b[39m])))\n",
      "Cell \u001b[0;32mIn[22], line 26\u001b[0m, in \u001b[0;36mtranslate_example\u001b[0;34m(example, lang_cod)\u001b[0m\n\u001b[1;32m     24\u001b[0m     new_value \u001b[39m=\u001b[39m mem[lang_cod][value]\n\u001b[1;32m     25\u001b[0m \u001b[39melse\u001b[39;00m:\n\u001b[0;32m---> 26\u001b[0m     new_value \u001b[39m=\u001b[39m translate_text_aux(target\u001b[39m=\u001b[39;49mlang_cod, text\u001b[39m=\u001b[39;49mvalue)\n\u001b[1;32m     28\u001b[0m mem[lang_cod][value] \u001b[39m=\u001b[39m new_value\n\u001b[1;32m     30\u001b[0m new_example[new_key] \u001b[39m=\u001b[39m new_value\n",
      "Cell \u001b[0;32mIn[22], line 8\u001b[0m, in \u001b[0;36mtranslate_text_aux\u001b[0;34m(target, text)\u001b[0m\n\u001b[1;32m      6\u001b[0m \u001b[39mif\u001b[39;00m text\u001b[39m.\u001b[39misnumeric():\n\u001b[1;32m      7\u001b[0m     \u001b[39mreturn\u001b[39;00m text\n\u001b[0;32m----> 8\u001b[0m response \u001b[39m=\u001b[39m translate_text(target\u001b[39m=\u001b[39;49mtarget, text\u001b[39m=\u001b[39;49mtext)\n\u001b[1;32m      9\u001b[0m \u001b[39mreturn\u001b[39;00m response[\u001b[39m\"\u001b[39m\u001b[39mtranslatedText\u001b[39m\u001b[39m\"\u001b[39m]\n",
      "File \u001b[0;32m~/Projects/multilingual-augmented-llm/cot/MMLU/../../translate.py:30\u001b[0m, in \u001b[0;36mtranslate_text\u001b[0;34m(target, text)\u001b[0m\n\u001b[1;32m     26\u001b[0m     text \u001b[39m=\u001b[39m text\u001b[39m.\u001b[39mdecode(\u001b[39m\"\u001b[39m\u001b[39mutf-8\u001b[39m\u001b[39m\"\u001b[39m)\n\u001b[1;32m     28\u001b[0m \u001b[39m# Text can also be a sequence of strings, in which case this method\u001b[39;00m\n\u001b[1;32m     29\u001b[0m \u001b[39m# will return a sequence of results for each text.\u001b[39;00m\n\u001b[0;32m---> 30\u001b[0m result \u001b[39m=\u001b[39m translate_client\u001b[39m.\u001b[39;49mtranslate(text, target_language\u001b[39m=\u001b[39;49mtarget, source_language\u001b[39m=\u001b[39;49m\u001b[39m'\u001b[39;49m\u001b[39men\u001b[39;49m\u001b[39m'\u001b[39;49m, format_\u001b[39m=\u001b[39;49m\u001b[39m'\u001b[39;49m\u001b[39mtext\u001b[39;49m\u001b[39m'\u001b[39;49m)\n\u001b[1;32m     32\u001b[0m \u001b[39m#print(\"Text: {}\".format(result[\"input\"]))\u001b[39;00m\n\u001b[1;32m     33\u001b[0m \u001b[39m#print(\"Translation: {}\".format(result[\"translatedText\"]))\u001b[39;00m\n\u001b[1;32m     34\u001b[0m \u001b[39m#print(\"Detected source language: {}\".format(result[\"detectedSourceLanguage\"]))\u001b[39;00m\n\u001b[1;32m     36\u001b[0m \u001b[39mreturn\u001b[39;00m result\n",
      "File \u001b[0;32m~/Projects/multilingual-augmented-llm/.venv/lib/python3.10/site-packages/google/cloud/translate_v2/client.py:268\u001b[0m, in \u001b[0;36mClient.translate\u001b[0;34m(self, values, target_language, format_, source_language, customization_ids, model)\u001b[0m\n\u001b[1;32m    257\u001b[0m     customization_ids \u001b[39m=\u001b[39m [customization_ids]\n\u001b[1;32m    259\u001b[0m data \u001b[39m=\u001b[39m {\n\u001b[1;32m    260\u001b[0m     \u001b[39m\"\u001b[39m\u001b[39mtarget\u001b[39m\u001b[39m\"\u001b[39m: target_language,\n\u001b[1;32m    261\u001b[0m     \u001b[39m\"\u001b[39m\u001b[39mq\u001b[39m\u001b[39m\"\u001b[39m: values,\n\u001b[0;32m   (...)\u001b[0m\n\u001b[1;32m    265\u001b[0m     \u001b[39m\"\u001b[39m\u001b[39mmodel\u001b[39m\u001b[39m\"\u001b[39m: model,\n\u001b[1;32m    266\u001b[0m }\n\u001b[0;32m--> 268\u001b[0m response \u001b[39m=\u001b[39m \u001b[39mself\u001b[39;49m\u001b[39m.\u001b[39;49m_connection\u001b[39m.\u001b[39;49mapi_request(method\u001b[39m=\u001b[39;49m\u001b[39m\"\u001b[39;49m\u001b[39mPOST\u001b[39;49m\u001b[39m\"\u001b[39;49m, path\u001b[39m=\u001b[39;49m\u001b[39m\"\u001b[39;49m\u001b[39m\"\u001b[39;49m, data\u001b[39m=\u001b[39;49mdata)\n\u001b[1;32m    270\u001b[0m translations \u001b[39m=\u001b[39m response\u001b[39m.\u001b[39mget(\u001b[39m\"\u001b[39m\u001b[39mdata\u001b[39m\u001b[39m\"\u001b[39m, {})\u001b[39m.\u001b[39mget(\u001b[39m\"\u001b[39m\u001b[39mtranslations\u001b[39m\u001b[39m\"\u001b[39m, ())\n\u001b[1;32m    271\u001b[0m \u001b[39mif\u001b[39;00m \u001b[39mlen\u001b[39m(values) \u001b[39m!=\u001b[39m \u001b[39mlen\u001b[39m(translations):\n",
      "File \u001b[0;32m~/Projects/multilingual-augmented-llm/.venv/lib/python3.10/site-packages/google/cloud/_http.py:473\u001b[0m, in \u001b[0;36mJSONConnection.api_request\u001b[0;34m(self, method, path, query_params, data, content_type, headers, api_base_url, api_version, expect_json, _target_object, timeout)\u001b[0m\n\u001b[1;32m    470\u001b[0m     data \u001b[39m=\u001b[39m json\u001b[39m.\u001b[39mdumps(data)\n\u001b[1;32m    471\u001b[0m     content_type \u001b[39m=\u001b[39m \u001b[39m\"\u001b[39m\u001b[39mapplication/json\u001b[39m\u001b[39m\"\u001b[39m\n\u001b[0;32m--> 473\u001b[0m response \u001b[39m=\u001b[39m \u001b[39mself\u001b[39;49m\u001b[39m.\u001b[39;49m_make_request(\n\u001b[1;32m    474\u001b[0m     method\u001b[39m=\u001b[39;49mmethod,\n\u001b[1;32m    475\u001b[0m     url\u001b[39m=\u001b[39;49murl,\n\u001b[1;32m    476\u001b[0m     data\u001b[39m=\u001b[39;49mdata,\n\u001b[1;32m    477\u001b[0m     content_type\u001b[39m=\u001b[39;49mcontent_type,\n\u001b[1;32m    478\u001b[0m     headers\u001b[39m=\u001b[39;49mheaders,\n\u001b[1;32m    479\u001b[0m     target_object\u001b[39m=\u001b[39;49m_target_object,\n\u001b[1;32m    480\u001b[0m     timeout\u001b[39m=\u001b[39;49mtimeout,\n\u001b[1;32m    481\u001b[0m )\n\u001b[1;32m    483\u001b[0m \u001b[39mif\u001b[39;00m \u001b[39mnot\u001b[39;00m \u001b[39m200\u001b[39m \u001b[39m<\u001b[39m\u001b[39m=\u001b[39m response\u001b[39m.\u001b[39mstatus_code \u001b[39m<\u001b[39m \u001b[39m300\u001b[39m:\n\u001b[1;32m    484\u001b[0m     \u001b[39mraise\u001b[39;00m exceptions\u001b[39m.\u001b[39mfrom_http_response(response)\n",
      "File \u001b[0;32m~/Projects/multilingual-augmented-llm/.venv/lib/python3.10/site-packages/google/cloud/_http.py:337\u001b[0m, in \u001b[0;36mJSONConnection._make_request\u001b[0;34m(self, method, url, data, content_type, headers, target_object, timeout)\u001b[0m\n\u001b[1;32m    334\u001b[0m headers[CLIENT_INFO_HEADER] \u001b[39m=\u001b[39m \u001b[39mself\u001b[39m\u001b[39m.\u001b[39muser_agent\n\u001b[1;32m    335\u001b[0m headers[\u001b[39m\"\u001b[39m\u001b[39mUser-Agent\u001b[39m\u001b[39m\"\u001b[39m] \u001b[39m=\u001b[39m \u001b[39mself\u001b[39m\u001b[39m.\u001b[39muser_agent\n\u001b[0;32m--> 337\u001b[0m \u001b[39mreturn\u001b[39;00m \u001b[39mself\u001b[39;49m\u001b[39m.\u001b[39;49m_do_request(\n\u001b[1;32m    338\u001b[0m     method, url, headers, data, target_object, timeout\u001b[39m=\u001b[39;49mtimeout\n\u001b[1;32m    339\u001b[0m )\n",
      "File \u001b[0;32m~/Projects/multilingual-augmented-llm/.venv/lib/python3.10/site-packages/google/cloud/_http.py:375\u001b[0m, in \u001b[0;36mJSONConnection._do_request\u001b[0;34m(self, method, url, headers, data, target_object, timeout)\u001b[0m\n\u001b[1;32m    341\u001b[0m \u001b[39mdef\u001b[39;00m \u001b[39m_do_request\u001b[39m(\n\u001b[1;32m    342\u001b[0m     \u001b[39mself\u001b[39m, method, url, headers, data, target_object, timeout\u001b[39m=\u001b[39m_DEFAULT_TIMEOUT\n\u001b[1;32m    343\u001b[0m ):  \u001b[39m# pylint: disable=unused-argument\u001b[39;00m\n\u001b[1;32m    344\u001b[0m \u001b[39m    \u001b[39m\u001b[39m\"\"\"Low-level helper:  perform the actual API request over HTTP.\u001b[39;00m\n\u001b[1;32m    345\u001b[0m \n\u001b[1;32m    346\u001b[0m \u001b[39m    Allows batch context managers to override and defer a request.\u001b[39;00m\n\u001b[0;32m   (...)\u001b[0m\n\u001b[1;32m    373\u001b[0m \u001b[39m    :returns: The HTTP response.\u001b[39;00m\n\u001b[1;32m    374\u001b[0m \u001b[39m    \"\"\"\u001b[39;00m\n\u001b[0;32m--> 375\u001b[0m     \u001b[39mreturn\u001b[39;00m \u001b[39mself\u001b[39;49m\u001b[39m.\u001b[39;49mhttp\u001b[39m.\u001b[39;49mrequest(\n\u001b[1;32m    376\u001b[0m         url\u001b[39m=\u001b[39;49murl, method\u001b[39m=\u001b[39;49mmethod, headers\u001b[39m=\u001b[39;49mheaders, data\u001b[39m=\u001b[39;49mdata, timeout\u001b[39m=\u001b[39;49mtimeout\n\u001b[1;32m    377\u001b[0m     )\n",
      "File \u001b[0;32m~/Projects/multilingual-augmented-llm/.venv/lib/python3.10/site-packages/google/auth/transport/requests.py:480\u001b[0m, in \u001b[0;36mAuthorizedSession.request\u001b[0;34m(self, method, url, data, headers, max_allowed_time, timeout, **kwargs)\u001b[0m\n\u001b[1;32m    477\u001b[0m remaining_time \u001b[39m=\u001b[39m guard\u001b[39m.\u001b[39mremaining_timeout\n\u001b[1;32m    479\u001b[0m \u001b[39mwith\u001b[39;00m TimeoutGuard(remaining_time) \u001b[39mas\u001b[39;00m guard:\n\u001b[0;32m--> 480\u001b[0m     response \u001b[39m=\u001b[39m \u001b[39msuper\u001b[39;49m(AuthorizedSession, \u001b[39mself\u001b[39;49m)\u001b[39m.\u001b[39;49mrequest(\n\u001b[1;32m    481\u001b[0m         method,\n\u001b[1;32m    482\u001b[0m         url,\n\u001b[1;32m    483\u001b[0m         data\u001b[39m=\u001b[39;49mdata,\n\u001b[1;32m    484\u001b[0m         headers\u001b[39m=\u001b[39;49mrequest_headers,\n\u001b[1;32m    485\u001b[0m         timeout\u001b[39m=\u001b[39;49mtimeout,\n\u001b[1;32m    486\u001b[0m         \u001b[39m*\u001b[39;49m\u001b[39m*\u001b[39;49mkwargs\n\u001b[1;32m    487\u001b[0m     )\n\u001b[1;32m    488\u001b[0m remaining_time \u001b[39m=\u001b[39m guard\u001b[39m.\u001b[39mremaining_timeout\n\u001b[1;32m    490\u001b[0m \u001b[39m# If the response indicated that the credentials needed to be\u001b[39;00m\n\u001b[1;32m    491\u001b[0m \u001b[39m# refreshed, then refresh the credentials and re-attempt the\u001b[39;00m\n\u001b[1;32m    492\u001b[0m \u001b[39m# request.\u001b[39;00m\n\u001b[1;32m    493\u001b[0m \u001b[39m# A stored token may expire between the time it is retrieved and\u001b[39;00m\n\u001b[1;32m    494\u001b[0m \u001b[39m# the time the request is made, so we may need to try twice.\u001b[39;00m\n",
      "File \u001b[0;32m~/Projects/multilingual-augmented-llm/.venv/lib/python3.10/site-packages/requests/sessions.py:589\u001b[0m, in \u001b[0;36mSession.request\u001b[0;34m(self, method, url, params, data, headers, cookies, files, auth, timeout, allow_redirects, proxies, hooks, stream, verify, cert, json)\u001b[0m\n\u001b[1;32m    584\u001b[0m send_kwargs \u001b[39m=\u001b[39m {\n\u001b[1;32m    585\u001b[0m     \u001b[39m\"\u001b[39m\u001b[39mtimeout\u001b[39m\u001b[39m\"\u001b[39m: timeout,\n\u001b[1;32m    586\u001b[0m     \u001b[39m\"\u001b[39m\u001b[39mallow_redirects\u001b[39m\u001b[39m\"\u001b[39m: allow_redirects,\n\u001b[1;32m    587\u001b[0m }\n\u001b[1;32m    588\u001b[0m send_kwargs\u001b[39m.\u001b[39mupdate(settings)\n\u001b[0;32m--> 589\u001b[0m resp \u001b[39m=\u001b[39m \u001b[39mself\u001b[39;49m\u001b[39m.\u001b[39;49msend(prep, \u001b[39m*\u001b[39;49m\u001b[39m*\u001b[39;49msend_kwargs)\n\u001b[1;32m    591\u001b[0m \u001b[39mreturn\u001b[39;00m resp\n",
      "File \u001b[0;32m~/Projects/multilingual-augmented-llm/.venv/lib/python3.10/site-packages/requests/sessions.py:703\u001b[0m, in \u001b[0;36mSession.send\u001b[0;34m(self, request, **kwargs)\u001b[0m\n\u001b[1;32m    700\u001b[0m start \u001b[39m=\u001b[39m preferred_clock()\n\u001b[1;32m    702\u001b[0m \u001b[39m# Send the request\u001b[39;00m\n\u001b[0;32m--> 703\u001b[0m r \u001b[39m=\u001b[39m adapter\u001b[39m.\u001b[39;49msend(request, \u001b[39m*\u001b[39;49m\u001b[39m*\u001b[39;49mkwargs)\n\u001b[1;32m    705\u001b[0m \u001b[39m# Total elapsed time of the request (approximately)\u001b[39;00m\n\u001b[1;32m    706\u001b[0m elapsed \u001b[39m=\u001b[39m preferred_clock() \u001b[39m-\u001b[39m start\n",
      "File \u001b[0;32m~/Projects/multilingual-augmented-llm/.venv/lib/python3.10/site-packages/requests/adapters.py:532\u001b[0m, in \u001b[0;36mHTTPAdapter.send\u001b[0;34m(self, request, stream, timeout, verify, cert, proxies)\u001b[0m\n\u001b[1;32m    530\u001b[0m     \u001b[39mraise\u001b[39;00m SSLError(e, request\u001b[39m=\u001b[39mrequest)\n\u001b[1;32m    531\u001b[0m \u001b[39melif\u001b[39;00m \u001b[39misinstance\u001b[39m(e, ReadTimeoutError):\n\u001b[0;32m--> 532\u001b[0m     \u001b[39mraise\u001b[39;00m ReadTimeout(e, request\u001b[39m=\u001b[39mrequest)\n\u001b[1;32m    533\u001b[0m \u001b[39melif\u001b[39;00m \u001b[39misinstance\u001b[39m(e, _InvalidHeader):\n\u001b[1;32m    534\u001b[0m     \u001b[39mraise\u001b[39;00m InvalidHeader(e, request\u001b[39m=\u001b[39mrequest)\n",
      "\u001b[0;31mReadTimeout\u001b[0m: HTTPSConnectionPool(host='translation.googleapis.com', port=443): Read timed out. (read timeout=60)"
     ]
    }
   ],
   "source": [
    "for task in TASKS:\n",
    "    print(task)\n",
    "    run_translate_task('pt', task)\n",
    "    "
   ]
  },
  {
   "cell_type": "code",
   "execution_count": 26,
   "metadata": {},
   "outputs": [
    {
     "name": "stdout",
     "output_type": "stream",
     "text": [
      "high_school_chemistry\n",
      "high_school_computer_science\n",
      "high_school_european_history\n",
      "high_school_geography\n",
      "high_school_government_and_politics\n",
      "high_school_macroeconomics\n",
      "high_school_mathematics\n",
      "high_school_microeconomics\n",
      "high_school_physics\n",
      "high_school_psychology\n",
      "high_school_statistics\n",
      "high_school_us_history\n",
      "high_school_world_history\n",
      "human_aging\n",
      "human_sexuality\n",
      "international_law\n",
      "jurisprudence\n",
      "logical_fallacies\n",
      "machine_learning\n",
      "management\n",
      "marketing\n",
      "medical_genetics\n",
      "miscellaneous\n",
      "moral_disputes\n",
      "moral_scenarios\n",
      "nutrition\n",
      "philosophy\n",
      "prehistory\n",
      "professional_accounting\n",
      "professional_law\n",
      "professional_medicine\n",
      "professional_psychology\n",
      "public_relations\n",
      "security_studies\n",
      "sociology\n",
      "us_foreign_policy\n",
      "virology\n",
      "world_religions\n"
     ]
    }
   ],
   "source": [
    "for task in TASKS[19:]:\n",
    "    print(task)\n",
    "    run_translate_task('pt', task)"
   ]
  },
  {
   "cell_type": "code",
   "execution_count": 28,
   "metadata": {},
   "outputs": [
    {
     "data": {
      "text/plain": [
       "99"
      ]
     },
     "execution_count": 28,
     "metadata": {},
     "output_type": "execute_result"
    }
   ],
   "source": [
    "len(data['abstract_algebra']['test_pt_gt'])"
   ]
  },
  {
   "cell_type": "code",
   "execution_count": 29,
   "metadata": {},
   "outputs": [
    {
     "data": {
      "text/plain": [
       "170"
      ]
     },
     "execution_count": 29,
     "metadata": {},
     "output_type": "execute_result"
    }
   ],
   "source": [
    "len(data['world_religions']['test_pt_gt'])\n"
   ]
  },
  {
   "cell_type": "code",
   "execution_count": 30,
   "metadata": {},
   "outputs": [
    {
     "data": {
      "text/plain": [
       "309"
      ]
     },
     "execution_count": 30,
     "metadata": {},
     "output_type": "execute_result"
    }
   ],
   "source": [
    "len(data['high_school_biology']['test_pt_gt'])\n"
   ]
  }
 ],
 "metadata": {
  "kernelspec": {
   "display_name": ".venv",
   "language": "python",
   "name": "python3"
  },
  "language_info": {
   "codemirror_mode": {
    "name": "ipython",
    "version": 3
   },
   "file_extension": ".py",
   "mimetype": "text/x-python",
   "name": "python",
   "nbconvert_exporter": "python",
   "pygments_lexer": "ipython3",
   "version": "3.10.11"
  },
  "orig_nbformat": 4
 },
 "nbformat": 4,
 "nbformat_minor": 2
}

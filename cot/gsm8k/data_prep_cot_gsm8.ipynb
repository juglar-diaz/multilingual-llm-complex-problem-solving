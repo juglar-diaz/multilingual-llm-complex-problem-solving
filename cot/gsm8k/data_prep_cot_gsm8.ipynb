{
 "cells": [
  {
   "cell_type": "code",
   "execution_count": 2,
   "metadata": {},
   "outputs": [],
   "source": [
    "import pickle\n",
    "import numpy as np\n",
    "import datasets\n",
    "from datasets import load_dataset, Dataset\n",
    "import pyarrow as pa\n",
    "import pandas as pd\n",
    "\n",
    "\n",
    "from dotenv import load_dotenv\n",
    "load_dotenv()\n",
    "\n",
    "import nltk\n"
   ]
  },
  {
   "cell_type": "code",
   "execution_count": 46,
   "metadata": {},
   "outputs": [],
   "source": [
    "import sys\n",
    "sys.path.append(\"../..\")\n",
    "from translate import translate_text\n"
   ]
  },
  {
   "cell_type": "code",
   "execution_count": 3,
   "metadata": {},
   "outputs": [],
   "source": [
    "first_load = False\n",
    "if first_load:\n",
    "    gsm8k = load_dataset('gsm8k', 'main')\n",
    "else:\n",
    "    with open('data/multi_gsm8k.pickle', 'rb') as handle:\n",
    "        gsm8k = pickle.load(handle)"
   ]
  },
  {
   "cell_type": "code",
   "execution_count": 4,
   "metadata": {},
   "outputs": [
    {
     "data": {
      "text/plain": [
       "'Natalia sold clips to 48 of her friends in April, and then she sold half as many clips in May. How many clips did Natalia sell altogether in April and May?'"
      ]
     },
     "execution_count": 4,
     "metadata": {},
     "output_type": "execute_result"
    }
   ],
   "source": [
    "gsm8k['train'][0]['question']"
   ]
  },
  {
   "cell_type": "code",
   "execution_count": 4,
   "metadata": {},
   "outputs": [
    {
     "data": {
      "text/plain": [
       "'Natalia sold 48/2 = <<48/2=24>>24 clips in May.\\nNatalia sold 48+24 = <<48+24=72>>72 clips altogether in April and May.\\n#### 72'"
      ]
     },
     "execution_count": 4,
     "metadata": {},
     "output_type": "execute_result"
    }
   ],
   "source": [
    "gsm8k['train'][0]['answer']\n"
   ]
  },
  {
   "cell_type": "code",
   "execution_count": 7,
   "metadata": {},
   "outputs": [
    {
     "data": {
      "text/plain": [
       "'A robe takes 2 bolts of blue fiber and half that much white fiber.  How many bolts in total does it take?'"
      ]
     },
     "execution_count": 7,
     "metadata": {},
     "output_type": "execute_result"
    }
   ],
   "source": [
    "gsm8k['test'][1]['question']"
   ]
  },
  {
   "cell_type": "code",
   "execution_count": 8,
   "metadata": {},
   "outputs": [
    {
     "data": {
      "text/plain": [
       "\"Janet’s ducks lay 16 eggs per day. She eats three for breakfast every morning and bakes muffins for her friends every day with four. She sells the remainder at the farmers' market daily for $2 per fresh duck egg. How much in dollars does she make every day at the farmers' market?\""
      ]
     },
     "execution_count": 8,
     "metadata": {},
     "output_type": "execute_result"
    }
   ],
   "source": [
    "gsm8k['test'][0]['question']\n"
   ]
  },
  {
   "cell_type": "code",
   "execution_count": 9,
   "metadata": {},
   "outputs": [
    {
     "data": {
      "text/plain": [
       "'Henry and 3 of his friends order 7 pizzas for lunch. Each pizza is cut into 8 slices. If Henry and his friends want to share the pizzas equally, how many slices can each of them have?'"
      ]
     },
     "execution_count": 9,
     "metadata": {},
     "output_type": "execute_result"
    }
   ],
   "source": [
    "gsm8k['test'][-1]['question']\n"
   ]
  },
  {
   "cell_type": "code",
   "execution_count": 6,
   "metadata": {},
   "outputs": [
    {
     "data": {
      "text/plain": [
       "1319"
      ]
     },
     "execution_count": 6,
     "metadata": {},
     "output_type": "execute_result"
    }
   ],
   "source": [
    "len(gsm8k['test'])\n"
   ]
  },
  {
   "cell_type": "code",
   "execution_count": 9,
   "metadata": {},
   "outputs": [
    {
     "data": {
      "text/plain": [
       "'Janet sells 16 - 3 - 4 = <<16-3-4=9>>9 duck eggs a day.\\nShe makes 9 * 2 = $<<9*2=18>>18 every day at the farmer’s market.\\n#### 18'"
      ]
     },
     "execution_count": 9,
     "metadata": {},
     "output_type": "execute_result"
    }
   ],
   "source": [
    "gsm8k['test'][0]['answer']\n"
   ]
  },
  {
   "cell_type": "code",
   "execution_count": 10,
   "metadata": {},
   "outputs": [
    {
     "data": {
      "text/plain": [
       "datasets.arrow_dataset.Dataset"
      ]
     },
     "execution_count": 10,
     "metadata": {},
     "output_type": "execute_result"
    }
   ],
   "source": [
    "type(gsm8k['test'])"
   ]
  },
  {
   "cell_type": "code",
   "execution_count": 12,
   "metadata": {},
   "outputs": [
    {
     "data": {
      "text/plain": [
       "1319"
      ]
     },
     "execution_count": 12,
     "metadata": {},
     "output_type": "execute_result"
    }
   ],
   "source": [
    "len(gsm8k['test'])\n"
   ]
  },
  {
   "attachments": {},
   "cell_type": "markdown",
   "metadata": {},
   "source": [
    "# Run translate function"
   ]
  },
  {
   "cell_type": "code",
   "execution_count": 45,
   "metadata": {},
   "outputs": [],
   "source": [
    "def run_translate_dataset(lang_cod):\n",
    "    ### call translate function\n",
    "    test_question_gt = [translate_text(target=lang_cod, text=gsm8k['test'][i]['question']) for i in range(len(gsm8k['test']))]\n",
    "    test_answer_gt = [translate_text(target=lang_cod, text=gsm8k['test'][i]['answer']) for i in range(len(gsm8k['test']))]\n",
    "    gsm8k[f\"test_{lang_cod}_gt\"] = [{'question': question['translatedText'].replace(\"&lt;\", \"<\").replace(\"&gt;\", \">\"),\\\n",
    "                            'answer': '\\n'.join(nltk.sent_tokenize(answer['translatedText'].replace(\"&lt;\", \"<\").replace(\"&gt;\", \">\")))}\\\n",
    "                            for question, answer in zip(test_question_gt, test_answer_gt)]\n",
    "    \n",
    "    ### convert to Huggingface dataset\n",
    "    gsm8k[f\"test_{lang_cod}_gt\"] = Dataset(pa.Table.from_pandas(pd.DataFrame(gsm8k[f\"test_{lang_cod}_gt\"])))\n",
    "\n",
    "    ### save to disk\n",
    "    with open('data/multi_gsm8k.pickle', 'wb') as handle:\n",
    "        pickle.dump(gsm8k, handle, protocol=pickle.HIGHEST_PROTOCOL)"
   ]
  },
  {
   "attachments": {},
   "cell_type": "markdown",
   "metadata": {},
   "source": [
    "## Spanish"
   ]
  },
  {
   "cell_type": "code",
   "execution_count": 16,
   "metadata": {},
   "outputs": [
    {
     "data": {
      "text/plain": [
       "[{'translatedText': 'Los patos de Janet ponen 16 huevos por día. Ella come tres para el desayuno cada mañana y hornea muffins para sus amigos todos los días con cuatro. Ella vende el resto en el mercado de granjeros diariamente a $2 por huevo de pato fresco. ¿Cuánto en dólares gana ella todos los días en el mercado de agricultores?',\n",
       "  'input': \"Janet’s ducks lay 16 eggs per day. She eats three for breakfast every morning and bakes muffins for her friends every day with four. She sells the remainder at the farmers' market daily for $2 per fresh duck egg. How much in dollars does she make every day at the farmers' market?\"},\n",
       " {'translatedText': 'Una túnica lleva 2 rollos de fibra azul y la mitad de fibra blanca. ¿Cuántos pernos se necesitan en total?',\n",
       "  'input': 'A robe takes 2 bolts of blue fiber and half that much white fiber.  How many bolts in total does it take?'}]"
      ]
     },
     "execution_count": 16,
     "metadata": {},
     "output_type": "execute_result"
    }
   ],
   "source": [
    "test_spanish_question_gt = [translate_text(target='es', text=gsm8k['test'][i]['question']) for i in range(len(gsm8k['test']))[:2]]\n",
    "test_spanish_question_gt"
   ]
  },
  {
   "cell_type": "code",
   "execution_count": null,
   "metadata": {},
   "outputs": [],
   "source": [
    "run_translate_dataset(lang_cod='es')"
   ]
  },
  {
   "attachments": {},
   "cell_type": "markdown",
   "metadata": {},
   "source": [
    "## Portuguese\n"
   ]
  },
  {
   "cell_type": "code",
   "execution_count": 37,
   "metadata": {},
   "outputs": [
    {
     "data": {
      "text/plain": [
       "[{'translatedText': 'Os patos de Janet põem 16 ovos por dia. Ela come três no café da manhã todas as manhãs e faz muffins para seus amigos todos os dias com quatro. Ela vende o restante no mercado dos fazendeiros diariamente por $ 2 por ovo de pato fresco. Quanto em dólares ela ganha todos os dias no mercado dos fazendeiros?',\n",
       "  'input': \"Janet’s ducks lay 16 eggs per day. She eats three for breakfast every morning and bakes muffins for her friends every day with four. She sells the remainder at the farmers' market daily for $2 per fresh duck egg. How much in dollars does she make every day at the farmers' market?\"},\n",
       " {'translatedText': 'Um manto leva 2 parafusos de fibra azul e metade dessa quantidade de fibra branca. Quantos parafusos no total são necessários?',\n",
       "  'input': 'A robe takes 2 bolts of blue fiber and half that much white fiber.  How many bolts in total does it take?'}]"
      ]
     },
     "execution_count": 37,
     "metadata": {},
     "output_type": "execute_result"
    }
   ],
   "source": [
    "test_portuguese_question_gt = [translate_text(target='pt', text=gsm8k['test'][i]['question']) for i in range(len(gsm8k['test']))[:2]]\n",
    "test_portuguese_question_gt"
   ]
  },
  {
   "cell_type": "code",
   "execution_count": 22,
   "metadata": {},
   "outputs": [],
   "source": [
    "run_translate_dataset(lang_cod='pt')"
   ]
  },
  {
   "attachments": {},
   "cell_type": "markdown",
   "metadata": {},
   "source": [
    "## French"
   ]
  },
  {
   "cell_type": "code",
   "execution_count": 38,
   "metadata": {},
   "outputs": [
    {
     "data": {
      "text/plain": [
       "[{'translatedText': \"Les canards de Janet pondent 16 œufs par jour. Elle en mange trois au petit-déjeuner tous les matins et prépare des muffins pour ses amis tous les jours avec quatre. Elle vend le reste au marché fermier tous les jours pour 2 $ l'œuf de cane frais. Combien gagne-t-elle en dollars chaque jour au marché fermier\\xa0?\",\n",
       "  'input': \"Janet’s ducks lay 16 eggs per day. She eats three for breakfast every morning and bakes muffins for her friends every day with four. She sells the remainder at the farmers' market daily for $2 per fresh duck egg. How much in dollars does she make every day at the farmers' market?\"},\n",
       " {'translatedText': 'Une robe prend 2 rouleaux de fibre bleue et la moitié de cette quantité de fibre blanche. Combien de boulons au total faut-il ?',\n",
       "  'input': 'A robe takes 2 bolts of blue fiber and half that much white fiber.  How many bolts in total does it take?'}]"
      ]
     },
     "execution_count": 38,
     "metadata": {},
     "output_type": "execute_result"
    }
   ],
   "source": [
    "test_french_question_gt = [translate_text(target='fr', text=gsm8k['test'][i]['question']) for i in range(len(gsm8k['test']))[:2]]\n",
    "test_french_question_gt"
   ]
  },
  {
   "cell_type": "code",
   "execution_count": 39,
   "metadata": {},
   "outputs": [
    {
     "name": "stdout",
     "output_type": "stream",
     "text": [
      "translated questions\n",
      "translated answers\n"
     ]
    }
   ],
   "source": [
    "run_translate_dataset(lang_cod='fr')"
   ]
  },
  {
   "attachments": {},
   "cell_type": "markdown",
   "metadata": {},
   "source": [
    "## Italian"
   ]
  },
  {
   "cell_type": "code",
   "execution_count": 29,
   "metadata": {},
   "outputs": [
    {
     "data": {
      "text/plain": [
       "[{'translatedText': 'Le anatre di Janet depongono 16 uova al giorno. Ne mangia tre a colazione ogni mattina e prepara muffin per i suoi amici ogni giorno con quattro. Ogni giorno vende il resto al mercato degli agricoltori per $ 2 per uovo di anatra fresco. Quanto guadagna in dollari ogni giorno al mercato degli agricoltori?',\n",
       "  'input': \"Janet’s ducks lay 16 eggs per day. She eats three for breakfast every morning and bakes muffins for her friends every day with four. She sells the remainder at the farmers' market daily for $2 per fresh duck egg. How much in dollars does she make every day at the farmers' market?\"},\n",
       " {'translatedText': 'Una tunica prende 2 dardi di fibra blu e metà di quella fibra bianca. Quanti bulloni ci vogliono in totale?',\n",
       "  'input': 'A robe takes 2 bolts of blue fiber and half that much white fiber.  How many bolts in total does it take?'}]"
      ]
     },
     "execution_count": 29,
     "metadata": {},
     "output_type": "execute_result"
    }
   ],
   "source": [
    "test_italian_question_gt = [translate_text(target='it', text=gsm8k['test'][i]['question']) for i in range(len(gsm8k['test']))[:2]]\n",
    "test_italian_question_gt"
   ]
  },
  {
   "cell_type": "code",
   "execution_count": 43,
   "metadata": {},
   "outputs": [
    {
     "name": "stdout",
     "output_type": "stream",
     "text": [
      "translated questions\n",
      "translated answers\n"
     ]
    }
   ],
   "source": [
    "run_translate_dataset(lang_cod='it')"
   ]
  },
  {
   "attachments": {},
   "cell_type": "markdown",
   "metadata": {},
   "source": [
    "# Test translations"
   ]
  },
  {
   "cell_type": "code",
   "execution_count": 32,
   "metadata": {},
   "outputs": [
    {
     "data": {
      "text/plain": [
       "{'question': 'Los patos de Janet ponen 16 huevos por día. Ella come tres para el desayuno cada mañana y hornea muffins para sus amigos todos los días con cuatro. Ella vende el resto en el mercado de granjeros diariamente a $2 por huevo de pato fresco. ¿Cuánto en dólares gana ella todos los días en el mercado de agricultores?',\n",
       " 'answer': 'Janet vende 16 - 3 - 4 = <<16-3-4=9>>9 huevos de pato al día.\\nElla gana 9 * 2 = $<<9*2=18>>18 todos los días en el mercado de agricultores.\\n#### 18'}"
      ]
     },
     "execution_count": 32,
     "metadata": {},
     "output_type": "execute_result"
    }
   ],
   "source": [
    "gsm8k['test_es_gt'][0]"
   ]
  },
  {
   "cell_type": "code",
   "execution_count": 34,
   "metadata": {},
   "outputs": [
    {
     "data": {
      "text/plain": [
       "{'question': 'Os patos de Janet põem 16 ovos por dia. Ela come três no café da manhã todas as manhãs e faz muffins para seus amigos todos os dias com quatro. Ela vende o restante no mercado dos fazendeiros diariamente por $ 2 por ovo de pato fresco. Quanto em dólares ela ganha todos os dias no mercado dos fazendeiros?',\n",
       " 'answer': 'Janet vende 16 - 3 - 4 = <<16-3-4=9>>9 ovos de pato por dia.\\nEla faz 9 * 2 = $<<9*2=18>>18 todos os dias no mercado do fazendeiro.\\n#### 18'}"
      ]
     },
     "execution_count": 34,
     "metadata": {},
     "output_type": "execute_result"
    }
   ],
   "source": [
    "gsm8k['test_pt_gt'][0]\n"
   ]
  },
  {
   "cell_type": "code",
   "execution_count": 35,
   "metadata": {},
   "outputs": [
    {
     "data": {
      "text/plain": [
       "{'question': 'Les canards de Janet pondent 16 œufs par jour. Elle en mange trois au petit-déjeuner tous les matins et prépare des muffins pour ses amis tous les jours avec quatre. Elle vend le reste au marché fermier tous les jours pour 2 $ l&#39;œuf de cane frais. Combien gagne-t-elle en dollars chaque jour au marché fermier\\xa0?',\n",
       " 'answer': 'Janet vend 16 - 3 - 4 = <<16-3-4=9>>9 œufs de cane par jour.\\nElle gagne 9 * 2 = $<<9*2=18>>18 chaque jour au marché fermier.\\n#### 18'}"
      ]
     },
     "execution_count": 35,
     "metadata": {},
     "output_type": "execute_result"
    }
   ],
   "source": [
    "gsm8k['test_fr_gt'][0]\n"
   ]
  },
  {
   "cell_type": "code",
   "execution_count": 43,
   "metadata": {},
   "outputs": [
    {
     "data": {
      "text/plain": [
       "{'question': \"Janet’s ducks lay 16 eggs per day. She eats three for breakfast every morning and bakes muffins for her friends every day with four. She sells the remainder at the farmers' market daily for $2 per fresh duck egg. How much in dollars does she make every day at the farmers' market?\",\n",
       " 'answer': 'Janet sells 16 - 3 - 4 = <<16-3-4=9>>9 duck eggs a day.\\nShe makes 9 * 2 = $<<9*2=18>>18 every day at the farmer’s market.\\n#### 18'}"
      ]
     },
     "execution_count": 43,
     "metadata": {},
     "output_type": "execute_result"
    }
   ],
   "source": [
    "gsm8k['test'][0]\n"
   ]
  },
  {
   "cell_type": "code",
   "execution_count": 4,
   "metadata": {},
   "outputs": [],
   "source": [
    "with open('data/multi_gsm8k.pickle', 'rb') as handle:\n",
    "    gsm8k_p = pickle.load(handle)"
   ]
  },
  {
   "cell_type": "code",
   "execution_count": 5,
   "metadata": {},
   "outputs": [
    {
     "data": {
      "text/plain": [
       "{'question': \"Janet’s ducks lay 16 eggs per day. She eats three for breakfast every morning and bakes muffins for her friends every day with four. She sells the remainder at the farmers' market daily for $2 per fresh duck egg. How much in dollars does she make every day at the farmers' market?\",\n",
       " 'answer': 'Janet sells 16 - 3 - 4 = <<16-3-4=9>>9 duck eggs a day.\\nShe makes 9 * 2 = $<<9*2=18>>18 every day at the farmer’s market.\\n#### 18'}"
      ]
     },
     "execution_count": 5,
     "metadata": {},
     "output_type": "execute_result"
    }
   ],
   "source": [
    "gsm8k_p['test'][0]"
   ]
  },
  {
   "cell_type": "code",
   "execution_count": 18,
   "metadata": {},
   "outputs": [],
   "source": [
    "with open('data/multi_gsm8k.pickle', 'wb') as handle:\n",
    "    pickle.dump(gsm8k_p, handle, protocol=pickle.HIGHEST_PROTOCOL)"
   ]
  },
  {
   "cell_type": "code",
   "execution_count": 24,
   "metadata": {},
   "outputs": [
    {
     "data": {
      "text/plain": [
       "{'question': 'Los patos de Janet ponen 16 huevos por día. Ella come tres para el desayuno cada mañana y hornea muffins para sus amigos todos los días con cuatro. Ella vende el resto en el mercado de granjeros diariamente a $2 por huevo de pato fresco. ¿Cuánto en dólares gana ella todos los días en el mercado de agricultores?',\n",
       " 'answer': 'Janet vende 16 - 3 - 4 = <<16-3-4=9>>9 huevos de pato al día.\\nElla gana 9 * 2 = $<<9*2=18>>18 todos los días en el mercado de agricultores.\\n#### 18'}"
      ]
     },
     "execution_count": 24,
     "metadata": {},
     "output_type": "execute_result"
    }
   ],
   "source": [
    "gsm8k_p['test_es_gt'][0]\n"
   ]
  },
  {
   "cell_type": "code",
   "execution_count": 26,
   "metadata": {},
   "outputs": [],
   "source": [
    "gsm8k['test_es_gt'] = gsm8k_p['test_es_gt']\n"
   ]
  }
 ],
 "metadata": {
  "kernelspec": {
   "display_name": ".venv",
   "language": "python",
   "name": "python3"
  },
  "language_info": {
   "codemirror_mode": {
    "name": "ipython",
    "version": 3
   },
   "file_extension": ".py",
   "mimetype": "text/x-python",
   "name": "python",
   "nbconvert_exporter": "python",
   "pygments_lexer": "ipython3",
   "version": "3.10.11"
  },
  "orig_nbformat": 4
 },
 "nbformat": 4,
 "nbformat_minor": 2
}

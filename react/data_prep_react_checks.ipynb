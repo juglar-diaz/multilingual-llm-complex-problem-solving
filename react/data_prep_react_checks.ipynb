{
 "cells": [
  {
   "cell_type": "code",
   "execution_count": 2,
   "metadata": {},
   "outputs": [],
   "source": [
    "import pandas as pd"
   ]
  },
  {
   "attachments": {},
   "cell_type": "markdown",
   "metadata": {},
   "source": [
    "# HotPotQA"
   ]
  },
  {
   "cell_type": "code",
   "execution_count": 2,
   "metadata": {},
   "outputs": [
    {
     "name": "stdout",
     "output_type": "stream",
     "text": [
      "<class 'pandas.core.frame.DataFrame'>\n",
      "Index: 7405 entries, 0 to 7404\n",
      "Data columns (total 18 columns):\n",
      " #   Column          Non-Null Count  Dtype \n",
      "---  ------          --------------  ----- \n",
      " 0   question        7405 non-null   object\n",
      " 1   answer          7405 non-null   object\n",
      " 2   type            7405 non-null   object\n",
      " 3   type_es_gt      7405 non-null   object\n",
      " 4   question_es_gt  7405 non-null   object\n",
      " 5   answer_es_gt    7405 non-null   object\n",
      " 6   type_pt_gt      7405 non-null   object\n",
      " 7   question_pt_gt  7405 non-null   object\n",
      " 8   answer_pt_gt    7405 non-null   object\n",
      " 9   type_fr_gt      7405 non-null   object\n",
      " 10  question_fr_gt  7405 non-null   object\n",
      " 11  answer_fr_gt    7405 non-null   object\n",
      " 12  type_it_gt      7405 non-null   object\n",
      " 13  question_it_gt  7405 non-null   object\n",
      " 14  answer_it_gt    7405 non-null   object\n",
      " 15  type_en_gt      7405 non-null   object\n",
      " 16  question_en_gt  7405 non-null   object\n",
      " 17  answer_en_gt    7405 non-null   object\n",
      "dtypes: object(18)\n",
      "memory usage: 1.1+ MB\n"
     ]
    }
   ],
   "source": [
    "df_dev_hp = pd.read_json(\"data/hotpot_dev_v1_simplified_multilingual.json\")\n",
    "df_dev_hp.info()"
   ]
  },
  {
   "cell_type": "code",
   "execution_count": 7,
   "metadata": {},
   "outputs": [],
   "source": [
    "df_dev_hp['type_en_gt'] = df_dev_hp['type'] \n",
    "df_dev_hp['question_en_gt'] = df_dev_hp['question'] \n",
    "df_dev_hp['answer_en_gt'] = df_dev_hp['answer'] \n",
    "df_dev_hp.to_json(\"data/hotpot_dev_v1_simplified_multilingual.json\")"
   ]
  },
  {
   "cell_type": "code",
   "execution_count": 3,
   "metadata": {},
   "outputs": [
    {
     "data": {
      "text/html": [
       "<div>\n",
       "<style scoped>\n",
       "    .dataframe tbody tr th:only-of-type {\n",
       "        vertical-align: middle;\n",
       "    }\n",
       "\n",
       "    .dataframe tbody tr th {\n",
       "        vertical-align: top;\n",
       "    }\n",
       "\n",
       "    .dataframe thead th {\n",
       "        text-align: right;\n",
       "    }\n",
       "</style>\n",
       "<table border=\"1\" class=\"dataframe\">\n",
       "  <thead>\n",
       "    <tr style=\"text-align: right;\">\n",
       "      <th></th>\n",
       "      <th>question</th>\n",
       "      <th>answer</th>\n",
       "      <th>type</th>\n",
       "      <th>type_es_gt</th>\n",
       "      <th>question_es_gt</th>\n",
       "      <th>answer_es_gt</th>\n",
       "      <th>type_pt_gt</th>\n",
       "      <th>question_pt_gt</th>\n",
       "      <th>answer_pt_gt</th>\n",
       "      <th>type_fr_gt</th>\n",
       "      <th>question_fr_gt</th>\n",
       "      <th>answer_fr_gt</th>\n",
       "      <th>type_it_gt</th>\n",
       "      <th>question_it_gt</th>\n",
       "      <th>answer_it_gt</th>\n",
       "      <th>type_en_gt</th>\n",
       "      <th>question_en_gt</th>\n",
       "      <th>answer_en_gt</th>\n",
       "    </tr>\n",
       "  </thead>\n",
       "  <tbody>\n",
       "    <tr>\n",
       "      <th>0</th>\n",
       "      <td>Were Scott Derrickson and Ed Wood of the same ...</td>\n",
       "      <td>yes</td>\n",
       "      <td>comparison</td>\n",
       "      <td>comparación</td>\n",
       "      <td>¿Scott Derrickson y Ed Wood eran de la misma n...</td>\n",
       "      <td>Sí</td>\n",
       "      <td>comparação</td>\n",
       "      <td>Scott Derrickson e Ed Wood eram da mesma nacio...</td>\n",
       "      <td>sim</td>\n",
       "      <td>comparaison</td>\n",
       "      <td>Scott Derrickson et Ed Wood étaient-ils de la ...</td>\n",
       "      <td>Oui</td>\n",
       "      <td>confronto</td>\n",
       "      <td>Scott Derrickson e Ed Wood erano della stessa ...</td>\n",
       "      <td>SÌ</td>\n",
       "      <td>comparison</td>\n",
       "      <td>Were Scott Derrickson and Ed Wood of the same ...</td>\n",
       "      <td>yes</td>\n",
       "    </tr>\n",
       "    <tr>\n",
       "      <th>1</th>\n",
       "      <td>What government position was held by the woman...</td>\n",
       "      <td>Chief of Protocol</td>\n",
       "      <td>bridge</td>\n",
       "      <td>puente</td>\n",
       "      <td>¿Qué puesto en el gobierno ocupaba la mujer qu...</td>\n",
       "      <td>Jefe de Protocolo</td>\n",
       "      <td>ponte</td>\n",
       "      <td>Que posição governamental foi ocupada pela mul...</td>\n",
       "      <td>chefe de protocolo</td>\n",
       "      <td>pont</td>\n",
       "      <td>Quel poste gouvernemental occupait la femme qu...</td>\n",
       "      <td>Chef de protocole</td>\n",
       "      <td>ponte</td>\n",
       "      <td>Quale posizione di governo era ricoperta dalla...</td>\n",
       "      <td>Capo del protocollo</td>\n",
       "      <td>bridge</td>\n",
       "      <td>What government position was held by the woman...</td>\n",
       "      <td>Chief of Protocol</td>\n",
       "    </tr>\n",
       "  </tbody>\n",
       "</table>\n",
       "</div>"
      ],
      "text/plain": [
       "                                            question             answer  \\\n",
       "0  Were Scott Derrickson and Ed Wood of the same ...                yes   \n",
       "1  What government position was held by the woman...  Chief of Protocol   \n",
       "\n",
       "         type   type_es_gt                                     question_es_gt  \\\n",
       "0  comparison  comparación  ¿Scott Derrickson y Ed Wood eran de la misma n...   \n",
       "1      bridge       puente  ¿Qué puesto en el gobierno ocupaba la mujer qu...   \n",
       "\n",
       "        answer_es_gt  type_pt_gt  \\\n",
       "0                 Sí  comparação   \n",
       "1  Jefe de Protocolo       ponte   \n",
       "\n",
       "                                      question_pt_gt        answer_pt_gt  \\\n",
       "0  Scott Derrickson e Ed Wood eram da mesma nacio...                 sim   \n",
       "1  Que posição governamental foi ocupada pela mul...  chefe de protocolo   \n",
       "\n",
       "    type_fr_gt                                     question_fr_gt  \\\n",
       "0  comparaison  Scott Derrickson et Ed Wood étaient-ils de la ...   \n",
       "1         pont  Quel poste gouvernemental occupait la femme qu...   \n",
       "\n",
       "        answer_fr_gt type_it_gt  \\\n",
       "0                Oui  confronto   \n",
       "1  Chef de protocole      ponte   \n",
       "\n",
       "                                      question_it_gt         answer_it_gt  \\\n",
       "0  Scott Derrickson e Ed Wood erano della stessa ...                   SÌ   \n",
       "1  Quale posizione di governo era ricoperta dalla...  Capo del protocollo   \n",
       "\n",
       "   type_en_gt                                     question_en_gt  \\\n",
       "0  comparison  Were Scott Derrickson and Ed Wood of the same ...   \n",
       "1      bridge  What government position was held by the woman...   \n",
       "\n",
       "        answer_en_gt  \n",
       "0                yes  \n",
       "1  Chief of Protocol  "
      ]
     },
     "execution_count": 3,
     "metadata": {},
     "output_type": "execute_result"
    }
   ],
   "source": [
    "df_dev_hp.head(2)"
   ]
  },
  {
   "cell_type": "code",
   "execution_count": 10,
   "metadata": {},
   "outputs": [
    {
     "data": {
      "text/plain": [
       "683062"
      ]
     },
     "execution_count": 10,
     "metadata": {},
     "output_type": "execute_result"
    }
   ],
   "source": [
    "sum([len(s) for s in list(df_dev_hp['question'])])"
   ]
  },
  {
   "attachments": {},
   "cell_type": "markdown",
   "metadata": {},
   "source": [
    "# Fever"
   ]
  },
  {
   "cell_type": "code",
   "execution_count": 3,
   "metadata": {},
   "outputs": [
    {
     "name": "stdout",
     "output_type": "stream",
     "text": [
      "<class 'pandas.core.frame.DataFrame'>\n",
      "Index: 9999 entries, 0 to 9998\n",
      "Data columns (total 12 columns):\n",
      " #   Column       Non-Null Count  Dtype \n",
      "---  ------       --------------  ----- \n",
      " 0   label        9999 non-null   object\n",
      " 1   claim        9999 non-null   object\n",
      " 2   label_es_gt  9999 non-null   object\n",
      " 3   claim_es_gt  9999 non-null   object\n",
      " 4   label_pt_gt  9999 non-null   object\n",
      " 5   claim_pt_gt  9999 non-null   object\n",
      " 6   label_fr_gt  9999 non-null   object\n",
      " 7   claim_fr_gt  9999 non-null   object\n",
      " 8   label_it_gt  9999 non-null   object\n",
      " 9   claim_it_gt  9999 non-null   object\n",
      " 10  label_en_gt  9999 non-null   object\n",
      " 11  claim_en_gt  9999 non-null   object\n",
      "dtypes: object(12)\n",
      "memory usage: 1015.5+ KB\n"
     ]
    }
   ],
   "source": [
    "df_dev_fever = pd.read_json(\"data/fever_paper_dev_multilingual.json\")\n",
    "df_dev_fever.info()"
   ]
  },
  {
   "cell_type": "code",
   "execution_count": 4,
   "metadata": {},
   "outputs": [
    {
     "data": {
      "text/html": [
       "<div>\n",
       "<style scoped>\n",
       "    .dataframe tbody tr th:only-of-type {\n",
       "        vertical-align: middle;\n",
       "    }\n",
       "\n",
       "    .dataframe tbody tr th {\n",
       "        vertical-align: top;\n",
       "    }\n",
       "\n",
       "    .dataframe thead th {\n",
       "        text-align: right;\n",
       "    }\n",
       "</style>\n",
       "<table border=\"1\" class=\"dataframe\">\n",
       "  <thead>\n",
       "    <tr style=\"text-align: right;\">\n",
       "      <th></th>\n",
       "      <th>label</th>\n",
       "      <th>claim</th>\n",
       "      <th>label_es_gt</th>\n",
       "      <th>claim_es_gt</th>\n",
       "      <th>label_pt_gt</th>\n",
       "      <th>claim_pt_gt</th>\n",
       "      <th>label_fr_gt</th>\n",
       "      <th>claim_fr_gt</th>\n",
       "      <th>label_it_gt</th>\n",
       "      <th>claim_it_gt</th>\n",
       "      <th>label_en_gt</th>\n",
       "      <th>claim_en_gt</th>\n",
       "    </tr>\n",
       "  </thead>\n",
       "  <tbody>\n",
       "    <tr>\n",
       "      <th>0</th>\n",
       "      <td>NOT ENOUGH INFO</td>\n",
       "      <td>Colin Kaepernick became a starting quarterback...</td>\n",
       "      <td>NO HAY SUFICIENTE INFORMACIÓN</td>\n",
       "      <td>Colin Kaepernick se convirtió en mariscal de c...</td>\n",
       "      <td>INFORMAÇÕES NÃO SUFICIENTES</td>\n",
       "      <td>Colin Kaepernick se tornou um quarterback titu...</td>\n",
       "      <td>PAS ASSEZ D'INFOS</td>\n",
       "      <td>Colin Kaepernick est devenu quart-arrière part...</td>\n",
       "      <td>INFORMAZIONI NON SUFFICIENTI</td>\n",
       "      <td>Colin Kaepernick è diventato un quarterback ti...</td>\n",
       "      <td>NOT ENOUGH INFO</td>\n",
       "      <td>Colin Kaepernick became a starting quarterback...</td>\n",
       "    </tr>\n",
       "    <tr>\n",
       "      <th>1</th>\n",
       "      <td>NOT ENOUGH INFO</td>\n",
       "      <td>Tilda Swinton is a vegan.</td>\n",
       "      <td>NO HAY SUFICIENTE INFORMACIÓN</td>\n",
       "      <td>Tilda Swinton es vegana.</td>\n",
       "      <td>INFORMAÇÕES NÃO SUFICIENTES</td>\n",
       "      <td>Tilda Swinton é vegana.</td>\n",
       "      <td>PAS ASSEZ D'INFOS</td>\n",
       "      <td>Tilda Swinton est végétalienne.</td>\n",
       "      <td>INFORMAZIONI NON SUFFICIENTI</td>\n",
       "      <td>Tilda Swinton è vegana.</td>\n",
       "      <td>NOT ENOUGH INFO</td>\n",
       "      <td>Tilda Swinton is a vegan.</td>\n",
       "    </tr>\n",
       "    <tr>\n",
       "      <th>2</th>\n",
       "      <td>SUPPORTS</td>\n",
       "      <td>Fox 2000 Pictures released the film Soul Food.</td>\n",
       "      <td>SOPORTES</td>\n",
       "      <td>Fox 2000 Pictures estrenó la película Soul Food.</td>\n",
       "      <td>APOIA</td>\n",
       "      <td>A Fox 2000 Pictures lançou o filme Soul Food.</td>\n",
       "      <td>LES SOUTIENS</td>\n",
       "      <td>Fox 2000 Pictures a sorti le film Soul Food.</td>\n",
       "      <td>SUPPORTI</td>\n",
       "      <td>La Fox 2000 Pictures ha distribuito il film So...</td>\n",
       "      <td>SUPPORTS</td>\n",
       "      <td>Fox 2000 Pictures released the film Soul Food.</td>\n",
       "    </tr>\n",
       "    <tr>\n",
       "      <th>3</th>\n",
       "      <td>NOT ENOUGH INFO</td>\n",
       "      <td>Anne Rice was born in New Jersey.</td>\n",
       "      <td>NO HAY SUFICIENTE INFORMACIÓN</td>\n",
       "      <td>Anne Rice nació en Nueva Jersey.</td>\n",
       "      <td>INFORMAÇÕES NÃO SUFICIENTES</td>\n",
       "      <td>Anne Rice nasceu em Nova Jersey.</td>\n",
       "      <td>PAS ASSEZ D'INFOS</td>\n",
       "      <td>Anne Rice est née dans le New Jersey.</td>\n",
       "      <td>INFORMAZIONI NON SUFFICIENTI</td>\n",
       "      <td>Anne Rice è nata nel New Jersey.</td>\n",
       "      <td>NOT ENOUGH INFO</td>\n",
       "      <td>Anne Rice was born in New Jersey.</td>\n",
       "    </tr>\n",
       "    <tr>\n",
       "      <th>4</th>\n",
       "      <td>REFUTES</td>\n",
       "      <td>Telemundo is a English-language television net...</td>\n",
       "      <td>refuta</td>\n",
       "      <td>Telemundo es una cadena de televisión en inglés.</td>\n",
       "      <td>REFUTAS</td>\n",
       "      <td>Telemundo é uma rede de televisão em língua in...</td>\n",
       "      <td>RÉFUTE</td>\n",
       "      <td>Telemundo est un réseau de télévision de langu...</td>\n",
       "      <td>CONFUTA</td>\n",
       "      <td>Telemundo è una rete televisiva in lingua ingl...</td>\n",
       "      <td>REFUTES</td>\n",
       "      <td>Telemundo is a English-language television net...</td>\n",
       "    </tr>\n",
       "  </tbody>\n",
       "</table>\n",
       "</div>"
      ],
      "text/plain": [
       "             label                                              claim  \\\n",
       "0  NOT ENOUGH INFO  Colin Kaepernick became a starting quarterback...   \n",
       "1  NOT ENOUGH INFO                          Tilda Swinton is a vegan.   \n",
       "2         SUPPORTS     Fox 2000 Pictures released the film Soul Food.   \n",
       "3  NOT ENOUGH INFO                  Anne Rice was born in New Jersey.   \n",
       "4          REFUTES  Telemundo is a English-language television net...   \n",
       "\n",
       "                     label_es_gt  \\\n",
       "0  NO HAY SUFICIENTE INFORMACIÓN   \n",
       "1  NO HAY SUFICIENTE INFORMACIÓN   \n",
       "2                       SOPORTES   \n",
       "3  NO HAY SUFICIENTE INFORMACIÓN   \n",
       "4                         refuta   \n",
       "\n",
       "                                         claim_es_gt  \\\n",
       "0  Colin Kaepernick se convirtió en mariscal de c...   \n",
       "1                           Tilda Swinton es vegana.   \n",
       "2   Fox 2000 Pictures estrenó la película Soul Food.   \n",
       "3                   Anne Rice nació en Nueva Jersey.   \n",
       "4   Telemundo es una cadena de televisión en inglés.   \n",
       "\n",
       "                   label_pt_gt  \\\n",
       "0  INFORMAÇÕES NÃO SUFICIENTES   \n",
       "1  INFORMAÇÕES NÃO SUFICIENTES   \n",
       "2                        APOIA   \n",
       "3  INFORMAÇÕES NÃO SUFICIENTES   \n",
       "4                      REFUTAS   \n",
       "\n",
       "                                         claim_pt_gt        label_fr_gt  \\\n",
       "0  Colin Kaepernick se tornou um quarterback titu...  PAS ASSEZ D'INFOS   \n",
       "1                            Tilda Swinton é vegana.  PAS ASSEZ D'INFOS   \n",
       "2      A Fox 2000 Pictures lançou o filme Soul Food.       LES SOUTIENS   \n",
       "3                   Anne Rice nasceu em Nova Jersey.  PAS ASSEZ D'INFOS   \n",
       "4  Telemundo é uma rede de televisão em língua in...             RÉFUTE   \n",
       "\n",
       "                                         claim_fr_gt  \\\n",
       "0  Colin Kaepernick est devenu quart-arrière part...   \n",
       "1                    Tilda Swinton est végétalienne.   \n",
       "2       Fox 2000 Pictures a sorti le film Soul Food.   \n",
       "3              Anne Rice est née dans le New Jersey.   \n",
       "4  Telemundo est un réseau de télévision de langu...   \n",
       "\n",
       "                    label_it_gt  \\\n",
       "0  INFORMAZIONI NON SUFFICIENTI   \n",
       "1  INFORMAZIONI NON SUFFICIENTI   \n",
       "2                      SUPPORTI   \n",
       "3  INFORMAZIONI NON SUFFICIENTI   \n",
       "4                       CONFUTA   \n",
       "\n",
       "                                         claim_it_gt      label_en_gt  \\\n",
       "0  Colin Kaepernick è diventato un quarterback ti...  NOT ENOUGH INFO   \n",
       "1                            Tilda Swinton è vegana.  NOT ENOUGH INFO   \n",
       "2  La Fox 2000 Pictures ha distribuito il film So...         SUPPORTS   \n",
       "3                   Anne Rice è nata nel New Jersey.  NOT ENOUGH INFO   \n",
       "4  Telemundo è una rete televisiva in lingua ingl...          REFUTES   \n",
       "\n",
       "                                         claim_en_gt  \n",
       "0  Colin Kaepernick became a starting quarterback...  \n",
       "1                          Tilda Swinton is a vegan.  \n",
       "2     Fox 2000 Pictures released the film Soul Food.  \n",
       "3                  Anne Rice was born in New Jersey.  \n",
       "4  Telemundo is a English-language television net...  "
      ]
     },
     "execution_count": 4,
     "metadata": {},
     "output_type": "execute_result"
    }
   ],
   "source": [
    "df_dev_fever.head()"
   ]
  },
  {
   "cell_type": "code",
   "execution_count": 15,
   "metadata": {},
   "outputs": [],
   "source": [
    "df_dev_fever['label_en_gt'] = df_dev_fever['label'] \n",
    "df_dev_fever['claim_en_gt'] = df_dev_fever['claim'] \n",
    "df_dev_fever.to_json(\"data/fever_paper_dev_multilingual.json\")"
   ]
  },
  {
   "cell_type": "code",
   "execution_count": 4,
   "metadata": {},
   "outputs": [],
   "source": [
    "def convert(s, mapping):\n",
    "    return mapping.get(s, s)"
   ]
  },
  {
   "cell_type": "code",
   "execution_count": 6,
   "metadata": {},
   "outputs": [
    {
     "data": {
      "text/plain": [
       "{'NO HAY SUFICIENTE INFORMACIÓN', 'SOPORTES', 'refuta'}"
      ]
     },
     "execution_count": 6,
     "metadata": {},
     "output_type": "execute_result"
    }
   ],
   "source": [
    "set(df_dev_fever['label_es_gt'])\n"
   ]
  },
  {
   "cell_type": "code",
   "execution_count": 5,
   "metadata": {},
   "outputs": [
    {
     "data": {
      "text/plain": [
       "{'APOYA', 'NO HAY SUFICIENTE INFORMACIÓN', 'REFUTA'}"
      ]
     },
     "execution_count": 5,
     "metadata": {},
     "output_type": "execute_result"
    }
   ],
   "source": [
    "mapping = {'SOPORTES': 'SOPORTA', 'Refuta': 'REFUTA', 'refuta': 'Refuta', 'SOPORTA': 'APOYA',}\n",
    "df_dev_fever['label_es_gt'] = df_dev_fever['label_es_gt'].apply(convert, mapping=mapping)\n",
    "set(df_dev_fever['label_es_gt'])"
   ]
  },
  {
   "cell_type": "code",
   "execution_count": 5,
   "metadata": {},
   "outputs": [
    {
     "data": {
      "text/plain": [
       "{'LES SOUTIENS', \"PAS ASSEZ D'INFOS\", 'RÉFUTE'}"
      ]
     },
     "execution_count": 5,
     "metadata": {},
     "output_type": "execute_result"
    }
   ],
   "source": [
    "set(df_dev_fever['label_fr_gt'])"
   ]
  },
  {
   "cell_type": "code",
   "execution_count": 15,
   "metadata": {},
   "outputs": [
    {
     "data": {
      "text/plain": [
       "{\"PAS ASSEZ D'INFOS\", 'RÉFUTE', 'SOUTIENT'}"
      ]
     },
     "execution_count": 15,
     "metadata": {},
     "output_type": "execute_result"
    }
   ],
   "source": [
    "mapping = {'LES SOUTIENS': 'SOUTIENT',}\n",
    "df_dev_fever['label_fr_gt'] = df_dev_fever['label_fr_gt'].apply(convert, mapping=mapping)\n",
    "set(df_dev_fever['label_fr_gt'])"
   ]
  },
  {
   "cell_type": "code",
   "execution_count": 7,
   "metadata": {},
   "outputs": [
    {
     "data": {
      "text/plain": [
       "{'CONFUTA', 'INFORMAZIONI NON SUFFICIENTI', 'SUPPORTI'}"
      ]
     },
     "execution_count": 7,
     "metadata": {},
     "output_type": "execute_result"
    }
   ],
   "source": [
    "set(df_dev_fever['label_it_gt'])\n"
   ]
  },
  {
   "cell_type": "code",
   "execution_count": 16,
   "metadata": {},
   "outputs": [
    {
     "data": {
      "text/plain": [
       "{'CONFUTA', 'INFORMAZIONI NON SUFFICIENTI', 'SUPPORTA'}"
      ]
     },
     "execution_count": 16,
     "metadata": {},
     "output_type": "execute_result"
    }
   ],
   "source": [
    "mapping = {'SUPPORTI': 'SUPPORTA',}\n",
    "df_dev_fever['label_it_gt'] = df_dev_fever['label_it_gt'].apply(convert, mapping=mapping)\n",
    "set(df_dev_fever['label_it_gt'])"
   ]
  },
  {
   "cell_type": "code",
   "execution_count": 8,
   "metadata": {},
   "outputs": [
    {
     "data": {
      "text/plain": [
       "{'APOIA', 'INFORMAÇÕES NÃO SUFICIENTES', 'REFUTAS'}"
      ]
     },
     "execution_count": 8,
     "metadata": {},
     "output_type": "execute_result"
    }
   ],
   "source": [
    "set(df_dev_fever['label_pt_gt'])\n"
   ]
  },
  {
   "cell_type": "code",
   "execution_count": 17,
   "metadata": {},
   "outputs": [
    {
     "data": {
      "text/plain": [
       "{'APOIA', 'REFUTAS', 'não há informação suficiente'}"
      ]
     },
     "execution_count": 17,
     "metadata": {},
     "output_type": "execute_result"
    }
   ],
   "source": [
    "mapping = {'INFORMAÇÕES NÃO SUFICIENTES': 'não há informação suficiente',}\n",
    "df_dev_fever['label_pt_gt'] = df_dev_fever['label_pt_gt'].apply(convert, mapping=mapping)\n",
    "set(df_dev_fever['label_pt_gt'])"
   ]
  },
  {
   "cell_type": "code",
   "execution_count": 14,
   "metadata": {},
   "outputs": [
    {
     "data": {
      "text/plain": [
       "477304"
      ]
     },
     "execution_count": 14,
     "metadata": {},
     "output_type": "execute_result"
    }
   ],
   "source": [
    "sum([len(s) for s in list(df_dev_fever['claim'])])\n"
   ]
  },
  {
   "cell_type": "code",
   "execution_count": null,
   "metadata": {},
   "outputs": [],
   "source": [
    "df_dev_fever.to_json(\"data/fever_paper_dev_multilingual.json\")\n"
   ]
  }
 ],
 "metadata": {
  "kernelspec": {
   "display_name": ".venv",
   "language": "python",
   "name": "python3"
  },
  "language_info": {
   "codemirror_mode": {
    "name": "ipython",
    "version": 3
   },
   "file_extension": ".py",
   "mimetype": "text/x-python",
   "name": "python",
   "nbconvert_exporter": "python",
   "pygments_lexer": "ipython3",
   "version": "3.10.11"
  },
  "orig_nbformat": 4
 },
 "nbformat": 4,
 "nbformat_minor": 2
}

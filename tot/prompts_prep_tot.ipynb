{
 "cells": [
  {
   "attachments": {},
   "cell_type": "markdown",
   "metadata": {},
   "source": [
    "### Created to translate prompts but did not use it."
   ]
  },
  {
   "cell_type": "code",
   "execution_count": null,
   "metadata": {},
   "outputs": [],
   "source": [
    "import sys\n",
    "sys.path.append(\"..\")\n",
    "from translate import translate"
   ]
  },
  {
   "cell_type": "code",
   "execution_count": null,
   "metadata": {},
   "outputs": [],
   "source": [
    "from prompts.text import dict_prompts_en\n",
    "\n",
    "languages = ['es', 'pt', 'fr', 'it']\n",
    "\n",
    "for lang_code in languages:\n",
    "    for key in dict_prompts_en.keys:\n",
    "        text = dict_prompts_en[key]\n",
    "        response = translate(target=lang_code, text=text)\n",
    "\n"
   ]
  }
 ],
 "metadata": {
  "language_info": {
   "name": "python"
  },
  "orig_nbformat": 4
 },
 "nbformat": 4,
 "nbformat_minor": 2
}
